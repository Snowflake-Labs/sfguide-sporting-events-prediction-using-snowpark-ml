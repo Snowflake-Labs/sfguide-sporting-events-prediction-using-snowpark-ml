{
 "metadata": {
  "kernelspec": {
   "display_name": "Streamlit Notebook",
   "name": "streamlit"
  }
 },
 "nbformat_minor": 5,
 "nbformat": 4,
 "cells": [
  {
   "cell_type": "markdown",
   "id": "7b402a9c-84ec-4818-ab34-967764d3f6fc",
   "metadata": {
    "name": "_Intro",
    "collapsed": false
   },
   "source": "# HOL: Soccer Euro Cup 2024 Prediction ⚽⚽⚽\n**Building a Forecasting Model** with **Snowpark ML**\n\n---\n\nIn this HOL, we'll be using Snowflake Notebook and Snowpark ML to build out an end-to-end forecasting model, starting from data ingestion through to model deployment. We will address all the steps in ML development, and demonstrate the various capabilities Snowflake provides with Snowpark ML and its supporting MLOps capabilities.\n\n\n_The model aims to predict the winner of the Euro Cup 2024 — a polarizing subject for Matteo (Italy supporter) and Simon (England supporter)!_\n_Are you ready? Let's start!_\n\n![image](https://i.gifer.com/embedded/download/BiCu.gif)\n"
  },
  {
   "cell_type": "code",
   "id": "9908f3ab-97f1-4610-8674-8655b80862d3",
   "metadata": {
    "language": "python",
    "name": "Get_Active_Session",
    "collapsed": false,
    "codeCollapsed": false
   },
   "outputs": [],
   "source": "from snowflake.snowpark.context import get_active_session\nsession = get_active_session()\n\n# add version tracking\napp_tag = {\n    \"origin\": \"sf_sit\",\n    \"name\": \"hol_sport_predict\",\n    \"version\": '{major: 1, minor: 0}'\n}\n\nsession.query_tag = app_tag",
   "execution_count": null
  },
  {
   "cell_type": "markdown",
   "id": "f56b34ea-cadf-4c3a-8a4b-9123dec26424",
   "metadata": {
    "name": "_Data_Ingestion",
    "collapsed": false
   },
   "source": "## Data Ingestion\n---\nOnce the dataset package is imported into the PUBLIC.DATA stage, we can import it in our staging tables.\n\n**(Time: 5 mins)**\n\n- Step through the notebook\n- Move data from __PUBLIC.DATA__ stage to tables\n- Get an understanding of the dataset loaded\n- Create additional cells to query the dataset further\n"
  },
  {
   "cell_type": "code",
   "id": "3708b2dd-0f2b-405b-97c9-c8e5607aab22",
   "metadata": {
    "language": "python",
    "name": "Ingest_Fixture_Rank_Data",
    "collapsed": false,
    "codeCollapsed": false
   },
   "outputs": [],
   "source": "# Ingesting Data.\n# Using a nested SQL in a python script to ingest all dataset in one step.\n\n# Create File Format for generic csv\nsession.sql(f'''\n    CREATE OR REPLACE FILE FORMAT ff_generic_csv\n        TYPE = CSV\n        FIELD_DELIMITER = ','\n        FIELD_OPTIONALLY_ENCLOSED_BY='\"'\n        PARSE_HEADER = True\n        TRIM_SPACE = TRUE\n        NULL_IF = ('NULL', 'null')\n        ESCAPE_UNENCLOSED_FIELD= NONE\n        ERROR_ON_COLUMN_COUNT_MISMATCH=false\n        replace_invalid_characters=true\n        date_format=auto\n        time_format=auto\n        timestamp_format=auto;\n''').collect()\n\n# Create File Format for results.csv (loaded adding unique id extra columns)\nsession.sql('''\n    create or replace file format ff_results_csv\n    \ttype=csv\n        skip_header=1\n        field_delimiter=','\n        trim_space=true\n        field_optionally_enclosed_by='\"'\n        replace_invalid_characters=true\n        date_format=auto\n        time_format=auto\n        timestamp_format=auto; \n''').collect()\n\n# Iterate on files to load into tables\ntables = [\"fixture\", \"rankings\"]\nfor table in tables:\n    session.sql(f'''\n        CREATE OR REPLACE TABLE {table.upper()}\n        USING TEMPLATE (\n            SELECT ARRAY_AGG(object_construct(*))\n            FROM TABLE(\n                INFER_SCHEMA(\n                    LOCATION=>'@data/{table}.csv',\n                    FILE_FORMAT=>'ff_generic_csv',\n                    IGNORE_CASE => TRUE\n                )\n            )\n        );\n    ''').collect()\n    \n    session.sql(f'''\n        COPY INTO {table.upper()}\n        FROM '@data/{table}.csv'\n        FILE_FORMAT = ff_generic_csv\n        MATCH_BY_COLUMN_NAME = CASE_INSENSITIVE;\n    ''').collect()",
   "execution_count": null
  },
  {
   "cell_type": "code",
   "id": "ea323dab-c54c-43ea-bec3-9efd18cb72b6",
   "metadata": {
    "language": "sql",
    "name": "Ingest_International_Results_with_ID",
    "collapsed": false,
    "codeCollapsed": false
   },
   "outputs": [],
   "source": "create or replace table results as\n(\n    select \n        ROW_NUMBER() OVER (ORDER BY $1) AS id,\n        $1::date date, \n        $2 home_team, \n        $3 away_team, \n        $4::integer home_team_score, \n        $5::integer away_team_score, \n        $6 tournament, \n        $7 city, \n        $8 country,\n        (CASE WHEN $9 = 'TRUE' then 1 ELSE 0 END) neutral\n    from \n        @data/results.csv\n    (file_format => 'ff_results_csv')\n);",
   "execution_count": null
  },
  {
   "cell_type": "code",
   "id": "e4b19b7b-70e7-4654-a6ea-f3565adb251e",
   "metadata": {
    "language": "sql",
    "name": "Update_Country_Name"
   },
   "outputs": [],
   "source": "-- need to handle a country spelling difference for Turkey/Türkiye\n\nupdate rankings \n    set country_full = 'Türkiye'\n    where country_abrv = 'TUR';",
   "execution_count": null
  },
  {
   "cell_type": "code",
   "id": "fa968c26-9ccb-4263-8064-906735a3849a",
   "metadata": {
    "language": "sql",
    "name": "Show_tables",
    "collapsed": false
   },
   "outputs": [],
   "source": "-- let's check our newly created tables\n\nshow tables in schema public;",
   "execution_count": null
  },
  {
   "cell_type": "code",
   "id": "537f87a9-56d6-4c74-beac-f23e4697de57",
   "metadata": {
    "language": "sql",
    "name": "VerifyDataLoaded_Internationals",
    "collapsed": false,
    "codeCollapsed": false
   },
   "outputs": [],
   "source": "-- And now lets check England's 1966 world cup final victory is there...\nSELECT\n  *\nFROM\n  results\nWHERE\n  home_team = 'England' \n  AND away_team = 'Germany'\n  AND tournament = 'FIFA World Cup'\n  AND YEAR (date) = 1966;",
   "execution_count": null
  },
  {
   "cell_type": "code",
   "id": "fc221afd-5cf4-4877-81f2-341b5a794274",
   "metadata": {
    "language": "python",
    "name": "VerifyDataFixture",
    "collapsed": false,
    "codeCollapsed": false
   },
   "outputs": [],
   "source": "# We also loaded the fixture of Euro Cup 2024 - these are the matches we'll predict the results. \n# Starting from group stage, through the knockout stage, up to the final.\n\nsession.table('fixture').limit(51)",
   "execution_count": null
  }
 ]
}