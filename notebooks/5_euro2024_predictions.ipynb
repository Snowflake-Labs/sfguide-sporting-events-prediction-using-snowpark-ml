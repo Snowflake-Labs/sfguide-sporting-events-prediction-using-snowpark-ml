{
 "metadata": {
  "kernelspec": {
   "display_name": "Streamlit Notebook",
   "name": "streamlit"
  }
 },
 "nbformat_minor": 5,
 "nbformat": 4,
 "cells": [
  {
   "cell_type": "markdown",
   "id": "f5c43a08-4105-4083-9ec4-6b6275d31f67",
   "metadata": {
    "name": "_Intro",
    "collapsed": false
   },
   "source": "# Predicting the Euro2024 Winner\n\n---\n\n### 1. Show Fixture Data\n\n**Objective:** Provide an overview of the fixture data for the Euro Cup 2024.\n\n- **Initial Fixture Table**: Make a copy of the fixture table to preserve the original data.\n\n### 2. Prep Data for Prediction\n\n**Objective:** Prepare the data for predictive modeling.\n\n- **Data Preprocessing**: Clean and transform the fixture data as necessary for prediction tasks.\n\n### 3. Predict Results\n\n**Objective:** Utilize predictive models to forecast match outcomes.\n\n- **Prediction Process**: Employ suitable algorithms to predict match results.\n- **Handling Shootouts**: Implement mechanisms to manage shootouts for knockout stage predictions.\n\n### 4. Show Results\n\n**Objective:** Present the predicted results of the Euro Cup 2024 matches.\n\n- **Display Predicted Outcomes**: Showcase the forecasted results of each match.\n"
  },
  {
   "cell_type": "code",
   "id": "84f2c727-af68-4511-899c-0917f6edcf55",
   "metadata": {
    "language": "python",
    "name": "Import_Libs",
    "collapsed": false,
    "codeCollapsed": false
   },
   "outputs": [],
   "source": "import snowflake.snowpark\nfrom snowflake.snowpark.session import Session\nfrom snowflake.snowpark import Window\nfrom snowflake.snowpark import functions as F   \nfrom snowflake.snowpark.functions import udf, udtf\nfrom snowflake.snowpark.types import IntegerType, FloatType, StringType, StructField, StructType, DateType\n    \nimport pandas as pd\nimport numpy as np\n\nimport matplotlib.pyplot as plt\nimport streamlit as st\n\nimport warnings\nwarnings.filterwarnings('ignore')",
   "execution_count": null
  },
  {
   "cell_type": "code",
   "id": "9908f3ab-97f1-4610-8674-8655b80862d3",
   "metadata": {
    "language": "python",
    "name": "Function_Get_Active_Session",
    "collapsed": false,
    "codeCollapsed": false
   },
   "outputs": [],
   "source": "from snowflake.snowpark.context import get_active_session\nsession = get_active_session()",
   "execution_count": null
  },
  {
   "cell_type": "code",
   "id": "ef146274-a07c-4d1e-8afe-eab82f894c8a",
   "metadata": {
    "language": "python",
    "name": "Get_User_Name"
   },
   "outputs": [],
   "source": "user_name = session.sql('select current_user()').collect()[0][0]",
   "execution_count": null
  },
  {
   "cell_type": "markdown",
   "id": "deb8bb25-23cc-4a59-b069-83c0bd0ffdaf",
   "metadata": {
    "name": "_GroupStage_Prediction",
    "collapsed": false
   },
   "source": "# Group Stage"
  },
  {
   "cell_type": "code",
   "id": "7b682945-6ddb-49a2-a79c-1204f7b9ec1a",
   "metadata": {
    "language": "python",
    "name": "Set_threshold",
    "collapsed": false
   },
   "outputs": [],
   "source": "# adjustable threashold.\n#\n# setting at 0.5 introduces too many penalty shootouts\n\nwin_threshold = 0.45",
   "execution_count": null
  },
  {
   "cell_type": "code",
   "id": "c038c3e3-366b-4a15-91d5-dcd7d81c2f97",
   "metadata": {
    "language": "python",
    "name": "GroupStage_ShowData",
    "collapsed": false,
    "codeCollapsed": false
   },
   "outputs": [],
   "source": "# lets make a copy of the fixtures, one with original data and then one we'll update as we go along\ndf_fixture_copy = session.table('fixture')\ndf_fixture_copy.write.save_as_table(f'fixture_{user_name}',mode='overwrite')\n\n# get list of fixtures for the groups stages\ndf_round_1 = (\n    session.table(f'fixture_{user_name}')\n    .select(\n        F.col('\"MATCH NUMBER\"').alias(\"id\"),\n        F.col('\"ROUND NUMBER\"').alias('round'),\n        F.to_date(F.col('\"DATE\"'), \"DD/MM/YYYY HH24:MI\").alias(\"date\"),\n        F.col('\"HOME TEAM\"').alias('team_1'),\n        F.col('\"AWAY TEAM\"').alias('team_2'),\n        F.col('\"GROUP\"').alias('group')\n    )\n)\n\n# note we can also use the .show(n) at the end if we want to see all data\ndf_round_1.show(51)",
   "execution_count": null
  },
  {
   "cell_type": "code",
   "id": "77ef219a-8099-4619-bbd6-27982f340241",
   "metadata": {
    "language": "python",
    "name": "GroupStage_Prep_Data",
    "collapsed": false,
    "codeCollapsed": false
   },
   "outputs": [],
   "source": "# call the sproc that will run all our feature engineering code on the games we want to predict\n#\n# note - the 0 and 36 params refer to fixtures, we are only processing the feature engineering code for fixtures 0 through 36\n# but...because we predict for both games twice we end up with 72 rows.\n\nsession.call('prep_prediction_data',0,36)\n\ndf_pred = session.table('data_for_predictions').order_by('id')\n\ndf_pred.show(72)",
   "execution_count": null
  },
  {
   "cell_type": "code",
   "id": "406b07ea-a9bd-46f9-a0b4-d31cb56757a4",
   "metadata": {
    "language": "python",
    "name": "GroupStage_Predict",
    "collapsed": false
   },
   "outputs": [],
   "source": "# run predictions on all the group stage games\nfrom snowflake.ml.registry import Registry\n\nreg = Registry(session=session)\n\npred_df = session.table('data_for_predictions').order_by('id')\nmv = reg.get_model(\"EURO_24_GAME_PREDICT\").default\n\nprediction = mv.run(pred_df, function_name=\"predict_proba\")\n\nprediction = prediction.with_column('output_game_outcome',F.iff(F.col('predict_proba_1') > win_threshold,1,0))\nprediction.write.save_as_table('predictions',mode='overwrite',table_type='temp')\n\nsession.table('predictions').select(\n    prediction.col('id'),\n    prediction.col('team_1'),\n    prediction.col('output_game_outcome')\n).order_by('id').show(72)",
   "execution_count": null
  },
  {
   "cell_type": "code",
   "id": "f4a2798a-c4fa-4e27-88f7-d87e9eda2dc6",
   "metadata": {
    "language": "sql",
    "name": "GroupStage_Predict_Results_SQL"
   },
   "outputs": [],
   "source": "-- We can also run the prediction in SQL, where we can call our model using:\n-- MODEL_NAME!PREDICT_PROBA()\n\nSELECT \n    \"ID\", \n    \"TEAM_1\",  \n    CAST (\"TMP_RESULT\"['PREDICT_PROBA_0'] AS DOUBLE) AS \"PREDICT_PROBA_0\",  \n    CAST (\"TMP_RESULT\"['PREDICT_PROBA_1'] AS DOUBLE) AS \"PREDICT_PROBA_1\" \nFROM \n(\n    WITH SNOWPARK_ML_MODEL_INFERENCE_INPUT AS (\n        SELECT  \n            *  \n        FROM \n            data_for_predictions \n        ORDER BY \"ID\" ASC\n    ),\n    MODEL_VERSION_ALIAS AS MODEL SUMMIT_EURO2024.PUBLIC.EURO_24_GAME_PREDICT VERSION V_7\n                \n    SELECT \n        *,\n        MODEL_VERSION_ALIAS!PREDICT_PROBA(\n            ID, \n            NEUTRAL, \n            TEAM_1_GOAL_DIFF, \n            TEAM_1_TTL_WINS, \n            TEAM_1_TTL_LOSSES, \n            TEAM_2_GOAL_DIFF, \n            TEAM_2_TTL_WINS, \n            TEAM_2_TTL_LOSSES, \n            TEAM_1_VS_TEAM_2_RANK\n        ) AS TMP_RESULT\n    FROM \n        SNOWPARK_ML_MODEL_INFERENCE_INPUT\n)",
   "execution_count": null
  },
  {
   "cell_type": "code",
   "id": "6b040302-9fd8-41f7-9ebb-975f3e7096f3",
   "metadata": {
    "language": "python",
    "name": "GroupStage_Show_Results",
    "collapsed": false,
    "codeCollapsed": false
   },
   "outputs": [],
   "source": "# lets take the output of our predictions \n# \n# we restructure this into the groups sorted by points to determine the teams that go through\n# 1st & 2nd, along with the 4 teams who ranked the highest in 3rd place (confusing right?) \n\nsession.call('process_group_predictions')\n\n# we should have our final tables for completed group stages\n\nsession.table('results_group_stage').filter(F.col('group') == 'Group A').order_by(F.col('group'),F.col('rank').asc()).show()\nsession.table('results_group_stage').filter(F.col('group') == 'Group B').order_by(F.col('group'),F.col('rank').asc()).show()\nsession.table('results_group_stage').filter(F.col('group') == 'Group C').order_by(F.col('group'),F.col('rank').asc()).show()\nsession.table('results_group_stage').filter(F.col('group') == 'Group D').order_by(F.col('group'),F.col('rank').asc()).show()\nsession.table('results_group_stage').filter(F.col('group') == 'Group E').order_by(F.col('group'),F.col('rank').asc()).show()\nsession.table('results_group_stage').filter(F.col('group') == 'Group F').order_by(F.col('group'),F.col('rank').asc()).show()",
   "execution_count": null
  },
  {
   "cell_type": "markdown",
   "id": "16a78419-9d3e-4ecd-a771-2af94ef67f5c",
   "metadata": {
    "name": "_Round16_Prediction",
    "collapsed": false
   },
   "source": "# Round of 16 "
  },
  {
   "cell_type": "code",
   "id": "be41903c-9d32-4cab-8694-a8690478812a",
   "metadata": {
    "language": "python",
    "name": "Round16_Show_Data",
    "collapsed": false,
    "codeCollapsed": false
   },
   "outputs": [],
   "source": "# take the results of the group stage and insert the team names inmto the Round of 16 fixtures\n# now we see who will be playing each each in the next phase\n\nsession.call('calculate_r16_games')\ndf_results = session.table(f'fixture_{user_name}').filter(F.col('\"ROUND NUMBER\"') == 'Round of 16').order_by('\"MATCH NUMBER\"')\n\n# we can also use Streamlit to show snowpark dataframes (though this is only compatible for Snowflake Notebooks!)\n# otherwise use df_results.show(8)\n\nst.dataframe(df_results,use_container_width=True)",
   "execution_count": null
  },
  {
   "cell_type": "code",
   "id": "b2025436-0c5b-41e4-bb04-09db3a1729fa",
   "metadata": {
    "language": "python",
    "name": "Round16_Prep_Data",
    "collapsed": false,
    "codeCollapsed": false
   },
   "outputs": [],
   "source": "# run the feature engineering code\n# note the different fixture id parameters\n\nsession.call('prep_prediction_data',37,44)\nsession.table('data_for_predictions').order_by('id').show(16)",
   "execution_count": null
  },
  {
   "cell_type": "code",
   "id": "58f60071-38c4-41a6-8341-3bd559254a4a",
   "metadata": {
    "language": "python",
    "name": "Round16_Predict_Results",
    "collapsed": false,
    "codeCollapsed": false
   },
   "outputs": [],
   "source": "# run predictions on all the games\nfrom snowflake.ml.registry import Registry\n\nreg = Registry(session=session)\n\npred_df = session.table('data_for_predictions').order_by('id')\nmv = reg.get_model(\"EURO_24_GAME_PREDICT\").default\n\nprediction = mv.run(pred_df, function_name=\"predict_proba\")\n\nprediction = prediction.with_column('output_game_outcome',F.iff(F.col('predict_proba_1') > win_threshold,1,0))\nprediction.write.save_as_table('predictions',mode='overwrite',table_type='temp')\n\nsession.table('predictions').select(\n    prediction.col('id'),\n    prediction.col('team_1'),\n    prediction.col('output_game_outcome')\n).order_by('id').show(16)",
   "execution_count": null
  },
  {
   "cell_type": "code",
   "id": "31d6b877-f069-48c4-8da6-5e6375395566",
   "metadata": {
    "language": "python",
    "name": "Round16_Show_Results",
    "collapsed": false,
    "codeCollapsed": false
   },
   "outputs": [],
   "source": "# lets process the predictions into a format where we can see the winners\n#\n# note - since this is a knockout stage, any draws will have to be resolved by a penalty shootout\n\nsession.call('process_knockout_predictions')\nsession.table('results_ko_stage').order_by('match_id').show()",
   "execution_count": null
  },
  {
   "cell_type": "markdown",
   "id": "42a86154-fc44-48d9-aace-54681a2b23c0",
   "metadata": {
    "name": "_QuarterFinals_Prediction",
    "collapsed": false
   },
   "source": "# Quarter-finals"
  },
  {
   "cell_type": "code",
   "id": "d6d85dd0-1199-480b-9fc6-ef724d6332b7",
   "metadata": {
    "language": "python",
    "name": "QuarterFinals_Show_Data",
    "collapsed": false,
    "codeCollapsed": false
   },
   "outputs": [],
   "source": "# see the quarter final games as a result of the previous round\n\nsession.call('calc_knockout_games','Quarter Finals')\nsession.table(f'fixture_{user_name}').filter(F.col('\"ROUND NUMBER\"') == 'Quarter Finals').order_by('\"MATCH NUMBER\"').show()",
   "execution_count": null
  },
  {
   "cell_type": "code",
   "id": "a59862e6-947a-495d-a329-428cd7ab8633",
   "metadata": {
    "language": "python",
    "name": "QuarterFinals_Prep_Data",
    "collapsed": false,
    "codeCollapsed": false
   },
   "outputs": [],
   "source": "# feature engineering code\n\nsession.call('prep_prediction_data',45,48)\nsession.table('data_for_predictions').order_by('id').show(8)",
   "execution_count": null
  },
  {
   "cell_type": "code",
   "id": "59d895a2-c4c4-4753-bee0-24ae6848b933",
   "metadata": {
    "language": "python",
    "name": "QuarterFinals_Predict_Results",
    "collapsed": false,
    "codeCollapsed": false
   },
   "outputs": [],
   "source": "# run predictions on all the games\nfrom snowflake.ml.registry import Registry\n\nreg = Registry(session=session)\n\npred_df = session.table('data_for_predictions').order_by('id')\nmv = reg.get_model(\"EURO_24_GAME_PREDICT\").default\n\nprediction = mv.run(pred_df, function_name=\"predict_proba\")\n\nprediction = prediction.with_column('output_game_outcome',F.iff(F.col('predict_proba_1') > win_threshold,1,0))\nprediction.write.save_as_table('predictions',mode='overwrite',table_type='temp')\n\nsession.table('predictions').select(\n    prediction.col('id'),\n    prediction.col('team_1'),\n    prediction.col('output_game_outcome')\n).order_by('id').show(8)",
   "execution_count": null
  },
  {
   "cell_type": "code",
   "id": "4e6b71ed-96a9-4add-8ebb-52bf69b4e31a",
   "metadata": {
    "language": "python",
    "name": "QuarterFinals_Show_Results",
    "collapsed": false,
    "codeCollapsed": false
   },
   "outputs": [],
   "source": "# process the predictions to see the winner \n\nsession.call('process_knockout_predictions')\nsession.table('results_ko_stage').order_by('match_id').show()",
   "execution_count": null
  },
  {
   "cell_type": "markdown",
   "id": "ddd32270-d16c-4115-9c55-8065ce2a9597",
   "metadata": {
    "name": "_Semifinals_Prediction",
    "collapsed": false
   },
   "source": "# Semi-finals "
  },
  {
   "cell_type": "code",
   "id": "ab32e857-07bf-4a38-ad5b-1a358aa34b1c",
   "metadata": {
    "language": "python",
    "name": "Semifinals_Show_Data",
    "collapsed": false,
    "codeCollapsed": false
   },
   "outputs": [],
   "source": "# calculate the fixtures\n\nsession.call('calc_knockout_games','Semi Finals')\nsession.table(f'fixture_{user_name}').filter(F.col('\"ROUND NUMBER\"') == 'Semi Finals').order_by('\"MATCH NUMBER\"').show()",
   "execution_count": null
  },
  {
   "cell_type": "code",
   "id": "9b0d52fa-90d6-4135-be9c-043ac18ba40e",
   "metadata": {
    "language": "python",
    "name": "Semifinals_Prep_Data",
    "collapsed": false,
    "codeCollapsed": false
   },
   "outputs": [],
   "source": "# feature engineering code\n\nsession.call('prep_prediction_data',49,50)\nsession.table('data_for_predictions').order_by('id').show(4)",
   "execution_count": null
  },
  {
   "cell_type": "code",
   "id": "209f2724-a9bc-498f-a66b-530bfe16e3b8",
   "metadata": {
    "language": "python",
    "name": "Semifinals_Predict_Results",
    "collapsed": false,
    "codeCollapsed": false
   },
   "outputs": [],
   "source": "# run predictions on all the games\nfrom snowflake.ml.registry import Registry\n\nreg = Registry(session=session)\n\npred_df = session.table('data_for_predictions').order_by('id')\nmv = reg.get_model(\"EURO_24_GAME_PREDICT\").default\n\nprediction = mv.run(pred_df, function_name=\"predict_proba\")\n\nprediction = prediction.with_column('output_game_outcome',F.iff(F.col('predict_proba_1') > win_threshold,1,0))\nprediction.write.save_as_table('predictions',mode='overwrite',table_type='temp')\n\nsession.table('predictions').select(\n    prediction.col('id'),\n    prediction.col('team_1'),\n    prediction.col('output_game_outcome')\n).order_by('id').show(4)",
   "execution_count": null
  },
  {
   "cell_type": "code",
   "id": "1b583905-5981-415c-9ba8-c470a140fa14",
   "metadata": {
    "language": "python",
    "name": "Semifinals_Show_Results",
    "collapsed": false,
    "codeCollapsed": false
   },
   "outputs": [],
   "source": "# process the predictions to see the winner\n\nsession.call('process_knockout_predictions')\nsession.table('results_ko_stage').order_by('match_id').show()",
   "execution_count": null
  },
  {
   "cell_type": "markdown",
   "id": "a7a6bcad-c01c-46f1-9f75-013d3f73fa0a",
   "metadata": {
    "name": "_Final_Prediction",
    "collapsed": false
   },
   "source": "# Final "
  },
  {
   "cell_type": "code",
   "id": "f29d235f-1e46-4af5-8b8f-e7ebdbacbf96",
   "metadata": {
    "language": "python",
    "name": "Final_Show_Data",
    "collapsed": false,
    "codeCollapsed": false
   },
   "outputs": [],
   "source": "# calculate the final game\n\nsession.call('calc_knockout_games','Final')\nsession.table(f'fixture_{user_name}').filter(F.col('\"ROUND NUMBER\"') == 'Final').order_by('\"MATCH NUMBER\"').show()",
   "execution_count": null
  },
  {
   "cell_type": "code",
   "id": "2a899efe-dad9-4197-adbe-0f558c21b880",
   "metadata": {
    "language": "python",
    "name": "Final_Prep_Data",
    "collapsed": false,
    "codeCollapsed": false
   },
   "outputs": [],
   "source": "# feature engineering code\n\nsession.call('prep_prediction_data',51,51)\nsession.table('data_for_predictions').order_by('id').show(2)",
   "execution_count": null
  },
  {
   "cell_type": "markdown",
   "id": "c1dca5f6-b4a0-4d35-9df5-db1c047f5803",
   "metadata": {
    "name": "_Almost_there",
    "collapsed": false
   },
   "source": "# And the winner is... "
  },
  {
   "cell_type": "code",
   "id": "dfc9a85e-d0ea-4d81-b9da-29c51b1797ca",
   "metadata": {
    "language": "python",
    "name": "Final_Predict_Result",
    "collapsed": false,
    "codeCollapsed": false
   },
   "outputs": [],
   "source": "# run predictions on the final \nimport streamlit as st\n\nfrom snowflake.ml.registry import Registry\n\nreg = Registry(session=session)\n\npred_df = session.table('data_for_predictions').order_by('id')\nmv = reg.get_model(\"EURO_24_GAME_PREDICT\").default\n\nprediction = mv.run(pred_df, function_name=\"predict\")\n\nprediction.write.save_as_table('predictions',mode='overwrite',table_type='temp')\n\nsession.table('predictions').select(\n    prediction.col('id'),\n    prediction.col('team_1'),\n    prediction.col('output_game_outcome')\n).order_by('id').show()\n\nsession.call('process_knockout_predictions')\nsession.table('results_ko_stage').order_by('match_id').show()\n\nst.snow()",
   "execution_count": null
  }
 ]
}