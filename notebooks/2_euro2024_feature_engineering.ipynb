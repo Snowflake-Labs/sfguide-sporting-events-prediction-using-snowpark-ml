{
 "metadata": {
  "kernelspec": {
   "display_name": "Streamlit Notebook",
   "name": "streamlit"
  }
 },
 "nbformat_minor": 5,
 "nbformat": 4,
 "cells": [
  {
   "cell_type": "code",
   "id": "84f2c727-af68-4511-899c-0917f6edcf55",
   "metadata": {
    "language": "python",
    "name": "Import_Libs",
    "collapsed": false,
    "codeCollapsed": false
   },
   "outputs": [],
   "source": "import snowflake.snowpark\nfrom snowflake.snowpark.session import Session\nfrom snowflake.snowpark import Window\nfrom snowflake.snowpark import functions as F   \nfrom snowflake.snowpark.functions import udf, udtf\nfrom snowflake.snowpark.types import IntegerType, FloatType, StringType, StructField, StructType, DateType\n    \nimport pandas as pd\nimport numpy as np\n\nimport warnings\nwarnings.filterwarnings('ignore')",
   "execution_count": null
  },
  {
   "cell_type": "code",
   "id": "9908f3ab-97f1-4610-8674-8655b80862d3",
   "metadata": {
    "language": "python",
    "name": "Function_Get_Active_Session",
    "collapsed": false,
    "codeCollapsed": false
   },
   "outputs": [],
   "source": "from snowflake.snowpark.context import get_active_session\nsession = get_active_session()",
   "execution_count": null
  },
  {
   "cell_type": "code",
   "id": "9fc4860a-c29c-4d1a-b0a2-5bcd5081445d",
   "metadata": {
    "language": "python",
    "name": "Get_User_Name"
   },
   "outputs": [],
   "source": "user_name = session.sql('select current_user()').collect()[0][0]",
   "execution_count": null
  },
  {
   "cell_type": "markdown",
   "id": "72d0fd5f-0e56-4a29-af9c-6a5165a31fff",
   "metadata": {
    "name": "_Feature_Engineering_Start",
    "collapsed": false
   },
   "source": "## Feature Engineering\n---\nGiven the small the dataset, a straightforward approach for feature engineering is creating views that consolidate player statistics and encode the POSITION (target column) as integers.\n\n**Time: 15 mins**\n\n- Start working on Feature Engineering Tasks\n- Join and normalize the data to extract meaningful features\n- Leverage Snowpark Dataframe for the data manipulation\n"
  },
  {
   "cell_type": "markdown",
   "id": "bf4c5baf-c1f0-4317-93b9-9efa0614e664",
   "metadata": {
    "name": "_Feature_Engineering_1",
    "collapsed": false
   },
   "source": "### Feature Engineering (Part 1)\n\n\nGet the home and away team ranks, at the time of the match date - we will use this to calculate the difference between ranks"
  },
  {
   "cell_type": "code",
   "id": "3ea9b35d-16e6-4cc3-b2bf-f17f4d69dc14",
   "metadata": {
    "language": "python",
    "name": "Matches_and_Rank",
    "collapsed": false,
    "codeCollapsed": false
   },
   "outputs": [],
   "source": "# Create a DataFrame by filtering and sorting match history from a database table\n# Start by accessing the 'results' table from the session\n# \n# Filter the data to include only records with a date on or after January 1, 1994,\n# and exclude records where the 'tournament' column is 'Friendly'\n#\n# Finally, sort the resulting DataFrame by the 'id' column\n\ndf_match_history = (\n    session.table(\"results\")\n    .filter(\n        (F.col(\"date\") >= \"1994-01-01\") &\n        (F.col(\"tournament\") != \"Friendly\")\n    )\n    .sort(F.col(\"id\"))\n)\n\n# Create another DataFrame by sorting the 'rankings' table from the session\n# Sort the data by the 'rank_date' column in ascending order\n\ndf_rank = session.table(\"rankings\").sort(F.col(\"rank_date\"), ascending=True)",
   "execution_count": null
  },
  {
   "cell_type": "code",
   "id": "15e03f0b-ee7d-4b68-9d9b-5e424499b027",
   "metadata": {
    "language": "python",
    "name": "MatchesShow",
    "collapsed": false,
    "codeCollapsed": false
   },
   "outputs": [],
   "source": "# One technique of listing the snowpark dataframes is using: dataframe.limit(n)\n\ndf_match_history.limit(10)",
   "execution_count": null
  },
  {
   "cell_type": "code",
   "id": "fe20a1ef-27bd-4212-be4b-f5c5d59989a7",
   "metadata": {
    "language": "python",
    "name": "HomeTeam_AwayTeam_Rank",
    "collapsed": false,
    "codeCollapsed": false
   },
   "outputs": [],
   "source": "# we join the history with rank - this will explode the table so we'll have all fixtures and all ranks \n# we'll want to get the fixture record with the most recent rank date relevant to the match date\ndf_match_rank_home = df_match_history.join(\n    df_rank,\n    ((df_rank['rank_date'] <= df_match_history['date']) &\n     (df_match_history['home_team'] == df_rank['country_full'])),\n    'left'\n).sort(['id', df_rank['rank_date'].desc()])\n\nwindow_spec = Window.partition_by('id').order_by(df_rank['rank_date'].desc())\ndf_match_rank_home = df_match_rank_home.select(\n    F.row_number().over(window_spec).alias('row_number'),\n    'id',\n    'rank',\n    'rank_date'\n).filter(F.col('row_number') == 1)\n\ndf_match_rank_home = df_match_rank_home.withColumnRenamed('id', 'home_id') \\\n.withColumnRenamed('rank', 'home_team_rank') \\\n.drop('row_number', 'rank_date')\n\n# and next we'll want to do the same thing for the away team as well...\ndf_match_rank_away = df_match_history.join(\n    df_rank,\n    (\n        (df_rank[\"rank_date\"] <= df_match_history[\"date\"])\n        & (df_match_history[\"away_team\"] == df_rank[\"country_full\"])\n    ),\n    \"left\",\n).sort([\"id\", F.desc(\"rank_date\")])\n\ndf_match_rank_away = (\n    df_match_rank_away.select(\n        F.row_number()\n        .over(Window.partitionBy(\"id\").orderBy(F.desc(\"rank_date\")))\n        .alias(\"row_number\"),\n        \"id\",\n        \"rank\",\n        \"rank_date\",\n    )\n    .filter(F.col(\"row_number\") == 1)\n    .drop(\"row_number\", \"rank_date\")\n)\n\n# Rename columns to reflect they are for the away team\ndf_match_rank_away = df_match_rank_away.withColumnRenamed(\n    \"id\", \"away_id\"\n).withColumnRenamed(\"rank\", \"away_team_rank\")\n\n# now we join these 2 dataframes together\ndf_match_rank = (\n    df_match_rank_home.join(\n        df_match_rank_away,\n        df_match_rank_home[\"home_id\"] == df_match_rank_away[\"away_id\"],\n        \"left\",\n    )\n    .select(\n        df_match_rank_home[\"home_id\"].alias(\"id\"),\n        df_match_rank_home[\"home_team_rank\"],\n        df_match_rank_away[\"away_team_rank\"]\n    )\n    .sort(\"id\")\n)\n\n# get rid of the rows with null values\ndf_match_rank = df_match_rank.filter(\n    df_match_rank.col('home_team_rank').is_not_null() & df_match_rank.col('away_team_rank').is_not_null()\n)\n\ndf_match_rank.limit(10)",
   "execution_count": null
  },
  {
   "cell_type": "markdown",
   "id": "589f9d9f-cd97-4459-8339-7695e9b7dcb8",
   "metadata": {
    "name": "_Feature_Engineering_2",
    "collapsed": false
   },
   "source": "### Feature Engineering (Part 2)\n\n- Get the recent performance of the home and away team\n- For each match, we are going to fetch the trailing 10 games (for both home and away teams) and calculate recent performance - the idea here is, does recent performance have any impact on the result of a game?  \n"
  },
  {
   "cell_type": "code",
   "id": "643a4204-37f2-4fec-bfc4-54a2cdeeb68b",
   "metadata": {
    "language": "python",
    "name": "UDTF_Calc_Performance",
    "collapsed": false
   },
   "outputs": [],
   "source": "# UDTF to calculate the trailing performance of a team, with a given set of games\n# It will return:\n# - no. of wins\n# - no. of losses\n# - goal difference (goals scored - goals conceded)\n\noutput_struct = StructType([\n    StructField(\"ttl_wins\", FloatType()),\n    StructField(\"ttl_losses\", FloatType()),\n    StructField(\"ttl_draws\", FloatType()),\n    StructField(\"goal_diff\",FloatType())\n])\n\n@udtf(output_schema = output_struct,\n    input_types = [IntegerType(),DateType(), FloatType(), FloatType(), IntegerType()],\n    name = \"calc_performance\", \n    session = session,\n    is_permanent=True, \n    stage_location=\"@python_load\",\n    packages=[\"pandas\"], \n    replace=True)\n\nclass calc_ttl_performance:\n    def __init__(self):\n        self.fixture_id = []\n        self.date = []\n        self.goals_for = []\n        self.goals_against = []\n        self.is_home = []\n\n    def process(self, fixture_id, date, goals_for, goals_against, is_home):\n        self.fixture_id.append(fixture_id)\n        self.date.append(date)\n        self.goals_for.append(goals_for)\n        self.goals_against.append(goals_against)\n        self.is_home.append(is_home)\n    \n    def end_partition(self):\n        df = pd.DataFrame(zip(self.fixture_id, self.date, self.goals_for, self.goals_against, self.is_home), \n                            columns=['fixture_id', 'date', 'home_team_goals', 'away_team_goals', 'is_home'])\n\n        df['goals_scored'] = np.where(df['is_home'] == 1, df['home_team_goals'], df['away_team_goals'])  \n        \n        df['goals_conceded'] = np.where(df['is_home'] == 1, df['away_team_goals'], df['home_team_goals']) \n\n        df['wins'] = np.where((df['home_team_goals'] > df['away_team_goals']) & (df['is_home'] == 1), 1, \n                     np.where((df['home_team_goals'] < df['away_team_goals']) & (df['is_home'] != 1), 1, 0))  \n        \n        df['draws'] = np.where(df['home_team_goals'] == df['away_team_goals'], 1, 0)  \n\n        df['losses'] = np.where((df['home_team_goals'] < df['away_team_goals']) & (df['is_home'] == 1), 1, \n                       np.where((df['home_team_goals'] > df['away_team_goals']) & (df['is_home'] != 1), 1, 0))  \n\n\n        ttl_wins = np.sum(df['wins'])\n        ttl_losses = np.sum(df['losses'])\n        ttl_draws = np.sum(df['draws'])\n        goal_diff = np.sum(df['goals_scored']) - np.sum(df['goals_conceded'])\n\n        if np.isnan(goal_diff):\n            goal_diff = 0\n\n        yield (ttl_wins, ttl_losses, ttl_draws, goal_diff)",
   "execution_count": null
  },
  {
   "cell_type": "code",
   "id": "feabf232-59d2-486c-acb9-02bd3bfe90f0",
   "metadata": {
    "language": "python",
    "name": "MatchFiltering",
    "collapsed": false,
    "codeCollapsed": false
   },
   "outputs": [],
   "source": "df_match_history = (\n    session.table(\"results\")\n    .filter(\n        (F.col(\"date\") >= \"1994-01-01\") &\n        (F.col(\"tournament\") != \"Friendly\")\n    )\n    .sort(F.col(\"id\"), ascending=True)\n)\n\ndf_history = (\n    session.table(\"results\")\n    .sort(F.col(\"id\"), ascending=True)\n)",
   "execution_count": null
  },
  {
   "cell_type": "code",
   "id": "7f90db1b-9720-49e1-8a96-7147951cf825",
   "metadata": {
    "language": "python",
    "name": "Team1_Calc_Performance",
    "collapsed": false,
    "codeCollapsed": false
   },
   "outputs": [],
   "source": "# Starting with the home team\n# For each match we want to get all the prior matches\n# Then in the next step we will limit that to the prior 5\n\ndf_home_team = (\n    df_match_history.join(\n        df_history,\n        (\n            (\n                (df_match_history[\"home_team\"] == df_history[\"home_team\"]) | (df_match_history[\"home_team\"] == df_history[\"away_team\"])\n            )\n            & (df_history[\"date\"] < df_match_history[\"date\"])\n        ),\n        \"left\",\n    )\n    .select(\n        df_match_history[\"id\"].alias(\"id\"),\n        df_match_history[\"date\"].alias(\"match_date\"),\n        df_match_history[\"home_team\"].alias(\"team_1\"),\n        df_match_history[\"away_team\"].alias(\"team_2\"),\n        df_match_history[\"neutral\"].alias(\"neutral\"),\n        df_history[\"home_team\"].alias(\"home_team\"),\n        df_history[\"away_team\"].alias(\"away_team\"),\n        df_history[\"date\"].cast(DateType()).alias(\"history_date\"),\n        df_history[\"home_team_score\"].alias(\"home_team_score\"),\n        df_history[\"away_team_score\"].alias(\"away_team_score\"),\n    )\n    .with_column(\n        \"is_home\",\n        F.when(df_match_history[\"home_team\"] == df_history[\"home_team\"], 1).otherwise(0),\n    )\n    .with_column(\n        \"row_number\",\n        F.row_number().over(Window.partition_by(\"id\").order_by(F.col(\"history_date\").desc())),\n    )\n    .filter(F.col(\"row_number\") <= 15)\n    .drop(\"row_number\")\n)\n\n# we use our UDTF to pass through the games partitioned by fixture id - there should be 5 games per partition\n\nperf_udtf = F.table_function(\"calc_performance\")\n\ndf_home_team = df_home_team.join_table_function(\n    perf_udtf(\n        df_home_team.col('id').cast(IntegerType()),\n        df_home_team.col('history_date').cast(DateType()),\n        df_home_team.col('home_team_score').cast(FloatType()),\n        df_home_team.col('away_team_score').cast(FloatType()),\n        df_home_team.col('is_home').cast(IntegerType())).over(partition_by='id',order_by=['history_date'])\n    )\\\n    .select(\n        F.col('id').alias('home_fixture_id'),\n        F.col('goal_diff').alias('home_goal_diff'),\n        F.col('ttl_wins').alias('home_ttl_wins'),\n        F.col('ttl_losses').alias('home_ttl_losses')\n    )\n\ndf_home_team.limit(10)",
   "execution_count": null
  },
  {
   "cell_type": "code",
   "id": "8abbbf86-1abe-42ff-9be6-e47cec1c599f",
   "metadata": {
    "language": "python",
    "name": "Team2_Calc_Performance",
    "collapsed": false,
    "codeCollapsed": false
   },
   "outputs": [],
   "source": "# Now the same for the away team\n# Again, we use our UDTF to pass through the games partitioned by fixture id - there should be 5 games per partition\ndf_away_team = (\n    df_match_history.join(\n        df_history,\n        (\n            (\n                (df_match_history[\"away_team\"] == df_history[\"home_team\"])\n                | (df_match_history[\"away_team\"] == df_history[\"away_team\"])\n            )\n            & (df_history[\"date\"] < df_match_history[\"date\"])\n        ),\n        \"left\",\n    )\n    .select(\n        df_match_history[\"id\"].alias(\"id\"),\n        df_match_history[\"date\"].alias(\"match_date\"),\n        df_match_history[\"home_team\"].alias(\"team_1\"),\n        df_match_history[\"away_team\"].alias(\"team_2\"),\n        df_match_history[\"neutral\"].alias(\"neutral\"),\n        df_history[\"home_team\"].alias(\"home_team\"),\n        df_history[\"away_team\"].alias(\"away_team\"),\n        df_history[\"date\"].cast(DateType()).alias(\"history_date\"),\n        df_history[\"home_team_score\"].alias(\"home_team_score\"),\n        df_history[\"away_team_score\"].alias(\"away_team_score\"),\n    )\n    .with_column(\n        \"is_home\",\n        F.when(df_match_history[\"away_team\"] == df_history[\"home_team\"], 1).otherwise(\n            0\n        ),\n    )\n    .with_column(\n        \"row_number\",\n        F.row_number().over(Window.partition_by(\"id\").order_by(F.col(\"history_date\").desc())),\n    )\n    .filter(F.col(\"row_number\") <= 15)\n    .drop(\"row_number\")\n)\n\nperf_udtf = F.table_function(\"calc_performance\")\n\ndf_away_team = df_away_team.join_table_function(\n    perf_udtf(\n        df_away_team.col('id').cast(IntegerType()),\n        df_away_team.col('history_date').cast(DateType()),\n        df_away_team.col('home_team_score').cast(FloatType()),\n        df_away_team.col('away_team_score').cast(FloatType()),\n        df_away_team.col('is_home').cast(IntegerType())).over(partition_by='id',order_by=['history_date'])\n    ) \\\n    .select(\n        F.col('id').alias('away_fixture_id'),\n        F.col('goal_diff').alias('away_goal_diff'),\n        F.col('ttl_wins').alias('away_ttl_wins'),\n        F.col('ttl_losses').alias('away_ttl_losses')    \n    )\n\ndf_away_team.limit(10)",
   "execution_count": null
  },
  {
   "cell_type": "code",
   "id": "c9fe8d8d-29fb-44e0-a6aa-c67aad3f9b9d",
   "metadata": {
    "language": "python",
    "name": "Team_Performance_Join",
    "collapsed": false,
    "codeCollapsed": false
   },
   "outputs": [],
   "source": "# now we join the home and away performance into its own dataframe - these can be joined later on and used as features.\ndf_team_perf = df_home_team \\\n    .join(\n        df_away_team,\n        (\n            df_away_team.col('away_fixture_id') == df_home_team.col('home_fixture_id')\n        ),\n        'left'\n    ).drop(\n        'away_fixture_id'\n    ).rename(\n        F.col(\"home_fixture_id\"), 'id'\n    )\n\ndf_team_perf.limit(10)",
   "execution_count": null
  },
  {
   "cell_type": "markdown",
   "id": "ce6ec8ad-13ff-4b90-ab40-6e95ba86936c",
   "metadata": {
    "name": "_Feature_Engineering_3",
    "collapsed": false
   },
   "source": "### Feature Engineering (Part 3)\n- Combine all features in a single dataframe\n- Save the dataframe in a FINAL_DATA table\n\nInitial tests found low accuracy (~55%) for multi-class predictions (i.e prediction Home Win, Draw, Away Win) so we're trying a different approach:\n\n- Reduce the outcome of the match to Home Win binary outcome (alternative is Draw and Away Win)\n- Run the prediction model twice, first for the Home Team and then for the Away Team\n- Combine the outcome of this like so:\n\n| Team 1 Outcome   | Team 2 Outcome   | Implied Result\n| ----------- | ----------- |--------\n| 1           | 0           |  Team 1 Win\n| 0           | 1           | Team 2 Win\n| 1           | 1           | Draw\n| 0           | 0           | Draw\n-------\n\nTherefore, our label will be 1 or 0 for model training.\n"
  },
  {
   "cell_type": "code",
   "id": "5e5b410c-6346-4dfa-8277-b9d0f62c8d91",
   "metadata": {
    "language": "python",
    "name": "UDF_Convert_Score"
   },
   "outputs": [],
   "source": "# UDF to bin the outcome into:\n# home win = 1\n# away win or draw = 0\n\n@udf(name='convert_score',  \n     is_permanent=True,\n     replace=True,\n     session=session,\n     stage_location='python_load')\n\ndef convert_score(x:int, y:int) -> int: \n    if x > y : # home win\n        return 1\n\n    return 0",
   "execution_count": null
  },
  {
   "cell_type": "code",
   "id": "28c70f5d-da4a-4f66-aaee-fda1d8f9d311",
   "metadata": {
    "language": "python",
    "name": "Final_Join_1",
    "collapsed": false,
    "codeCollapsed": false
   },
   "outputs": [],
   "source": "df_match_history_full = session.table('results') \\\n    .filter(\n        (F.col(\"date\") >= \"1994-01-01\") &\n        (F.col(\"tournament\") != \"Friendly\")\n    ).sort(F.col('id'), ascending=False\n)",
   "execution_count": null
  },
  {
   "cell_type": "code",
   "id": "acb5fa4e-6455-412d-a347-a7d6e752c277",
   "metadata": {
    "language": "python",
    "name": "Final_Join_2",
    "collapsed": false,
    "codeCollapsed": false
   },
   "outputs": [],
   "source": "df_match_history_full = session.table('results') \\\n    .filter(\n        (F.col(\"date\") >= \"1994-01-01\") &\n        (F.col(\"tournament\") != \"Friendly\")\n    ).sort(F.col('id'), ascending=False\n)\n\ndf_match_history_full = df_match_history_full.join(\n    df_match_rank,\n    (\n        df_match_history_full.col('id') == df_match_rank.col('id')\n    ),\n    'left'\n).join(\n    df_team_perf,\n    (\n        df_match_history_full.col('id') == df_team_perf.col('id')\n    ),\n    'left'\n).select(\n    df_match_history_full.col('id').alias('id'),\n    df_match_history_full.col('neutral'),\n    df_team_perf.col('home_goal_diff').alias('team_1_goal_diff'),\n    df_team_perf.col('home_ttl_wins').alias('team_1_ttl_wins'),\n    df_team_perf.col('home_ttl_losses').alias('team_1_ttl_losses'),\n    df_team_perf.col('away_goal_diff').alias('team_2_goal_diff'),\n    df_team_perf.col('away_ttl_wins').alias('team_2_ttl_wins'),\n    df_team_perf.col('away_ttl_losses').alias('team_2_ttl_losses'),\n    (df_match_rank.col('home_team_rank') - df_match_rank.col('away_team_rank')).alias('team_1_vs_team_2_rank'),\n    F.call_function(\n        'convert_score',\n        df_match_history_full.col('home_team_score'),\n        df_match_history_full.col('away_team_score')\n        ).alias('game_outcome')\n).sort(\n    F.col('id'), ascending=True\n).na.fill(0)\n\n# save a specific version for this user\ndf_match_history_full.write.save_as_table(f'final_data_{user_name}', mode='overwrite')\n\nsession.table(f'final_data_{user_name}').limit(10)",
   "execution_count": null
  },
  {
   "cell_type": "markdown",
   "id": "b37da48a-1ba7-43ea-8448-b89b6b5ec86f",
   "metadata": {
    "name": "_Summary",
    "collapsed": false
   },
   "source": "Our final dataset contains the following features:\n\n| Feature   | Description   |\n| ----------- | ----------- |\n| NEUTRAL           | Specifies whether the game is played in Team 1's home location. 0 = No, 1 = Yes. In theory, home advantage should have an effect  |\n| TEAM_1_GOAL_DIFF| Last 10 goal difference of Team 1. Positive means they scored more than they conceded.\n| TEAM_1_TTL_WINS | How many games Team 1 have won in the trailing 10 games (relative to the date of the current game)\n| TEAM_1_TTL_LOSSES | How many games Team 1 have lost in the trailing 10 games (relative to the date of the current game)\n| TEAM_2_GOAL_DIFF| Last 10 goal difference of Team 2. Positive means they scored more than they conceded.\n| TEAM_2_TTL_WINS | How many games Team 2 have won in the trailing 10 games (relative to the date of the current game)\n| TEAM_2_TTL_LOSSES | How many games Team 2 have lost in the trailing 10 games (relative to the date of the current game)\n| TEAM_1_VS_TEAM_2_RANK| The difference in rank between Team 1 and Team | \n"
  }
 ]
}