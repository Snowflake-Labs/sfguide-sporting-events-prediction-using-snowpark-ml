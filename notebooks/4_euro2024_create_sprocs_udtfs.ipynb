{
 "metadata": {
  "kernelspec": {
   "display_name": "Streamlit Notebook",
   "name": "streamlit"
  }
 },
 "nbformat_minor": 5,
 "nbformat": 4,
 "cells": [
  {
   "cell_type": "markdown",
   "id": "82696b16-a72d-49ff-b023-fde48e1145f3",
   "metadata": {
    "name": "_Intro",
    "collapsed": false
   },
   "source": "# Creation of Stored Procedures & UDTFs\n\nThe intent behind this notebookis to create re-usable code for the prediction phase of the HOL.\n\nWe'll be re-using our feature engineering code, as well as creating some procedures and functions that pre and post process data for each round of the tournamment."
  },
  {
   "cell_type": "code",
   "id": "84f2c727-af68-4511-899c-0917f6edcf55",
   "metadata": {
    "language": "python",
    "name": "Import_Libs",
    "collapsed": false,
    "codeCollapsed": false
   },
   "outputs": [],
   "source": "import snowflake.snowpark\nfrom snowflake.snowpark.session import Session\nfrom snowflake.snowpark import Window\nfrom snowflake.snowpark import functions as F   \nfrom snowflake.snowpark.functions import udf, udtf\nfrom snowflake.snowpark.types import IntegerType, FloatType, StringType, StructField, StructType, DateType\n    \nimport pandas as pd\nimport numpy as np\n\nimport matplotlib.pyplot as plt\nimport streamlit as st\n\nimport warnings\nwarnings.filterwarnings('ignore')",
   "execution_count": null
  },
  {
   "cell_type": "code",
   "id": "9908f3ab-97f1-4610-8674-8655b80862d3",
   "metadata": {
    "language": "python",
    "name": "Get_Active_Session",
    "collapsed": false,
    "codeCollapsed": false
   },
   "outputs": [],
   "source": "from snowflake.snowpark.context import get_active_session\nsession = get_active_session()",
   "execution_count": null
  },
  {
   "cell_type": "code",
   "id": "ca5b9674-7926-42a9-b0f2-9ce1de186eaa",
   "metadata": {
    "language": "python",
    "name": "Function_Penalty_Shootout",
    "collapsed": false,
    "codeCollapsed": false
   },
   "outputs": [],
   "source": "# FUNCTION used in the event of a draw in the knockout\n# tried building a model but there's so much variability\n# decided to use a sigmoid function with the advantage to the higher ranked team\n\ndef penalty_shootout(team_1, team_2, rank_delta) -> str:\n\n    boundary = 25\n    \n    adjustment_factor = max(min(rank_delta, boundary), -boundary) * 0.05 \n    sigmoid = 1 / (1 + np.exp(-adjustment_factor))\n    threshold = 50 + (sigmoid - 0.5) * 100\n\n    random_number = np.random.randint(1, 101)\n    if random_number >= threshold:\n        return team_1\n    else:\n        return team_2",
   "execution_count": null
  },
  {
   "cell_type": "code",
   "id": "a898be56-deba-40af-9fa1-3a3007e02dbc",
   "metadata": {
    "language": "python",
    "name": "UDTF_calc_game_outcome",
    "collapsed": false,
    "codeCollapsed": false
   },
   "outputs": [],
   "source": "# UDTF to combine the 2 predictions into 1 and return number of points\n# this is used in the group stage when there is a points based system to determine qualification\n\noutput_struct = StructType([\n    StructField(\"match_id\", IntegerType()),\n    StructField(\"team_name\", StringType()),\n    StructField(\"points\", IntegerType())\n])\n\n@udtf(output_schema = output_struct,\n    input_types = [FloatType(),StringType(), FloatType()],\n    name = \"calc_game_outcome\", \n    session = session,\n    is_permanent=True, \n    stage_location=\"@python_load\",\n    packages=[\"pandas\"], \n    replace=True)\n\nclass calc_game_outcome:\n    def __init__(self):\n        self.fixture_id = []\n        self.team_name = []\n        self.outcome = []\n\n    def process(self, fixture_id, team_name, outcome):\n        self.fixture_id.append(fixture_id)\n        self.team_name.append(team_name)\n        self.outcome.append(outcome)\n    \n    def end_partition(self):\n        df = pd.DataFrame(zip(self.fixture_id, self.team_name, self.outcome), columns=['ID', 'TEAM_1', 'OUTCOME'])\n\n        df_return = pd.DataFrame(columns=['match_id','name','points'])\n\n        # Team 1 win, Team 2 loss - means Team 1 wins\n        if (df.iloc[0]['OUTCOME'] == 1) & (df.iloc[1]['OUTCOME'] == 0):\n            \n            row = [df.iloc[0]['ID'],df.iloc[0]['TEAM_1'],3]\n            df_return.loc[len(df_return)] = row\n\n            row = [df.iloc[1]['ID'],df.iloc[1]['TEAM_1'],0]\n            df_return.loc[len(df_return)] = row\n\n        # Team 1 win, Team 2 win - means draws\n        if (df.iloc[0]['OUTCOME'] == 1) & (df.iloc[1]['OUTCOME'] == 1):\n            \n            row = [df.iloc[0]['ID'],df.iloc[0]['TEAM_1'],1]\n            df_return.loc[len(df_return)] = row\n\n            row = [df.iloc[1]['ID'],df.iloc[1]['TEAM_1'],1]\n            df_return.loc[len(df_return)] = row\n\n        # Team 1 loss, Team 1 loss - means draws\n        if (df.iloc[0]['OUTCOME'] == 0) & (df.iloc[1]['OUTCOME'] == 0):\n            \n            row = [df.iloc[0]['ID'],df.iloc[0]['TEAM_1'],1]\n            df_return.loc[len(df_return)] = row\n\n            row = [df.iloc[1]['ID'],df.iloc[1]['TEAM_1'],1]\n            df_return.loc[len(df_return)] = row\n\n        # Team 1 loss, Team 2 win - means Team 2 win\n        if (df.iloc[0]['OUTCOME'] == 0) & (df.iloc[1]['OUTCOME'] == 1):\n            \n            row = [df.iloc[0]['ID'],df.iloc[0]['TEAM_1'],0]\n            df_return.loc[len(df_return)] = row\n\n            row = [df.iloc[1]['ID'],df.iloc[1]['TEAM_1'],3]\n            df_return.loc[len(df_return)] = row\n\n        #df_return['id'] = df_return['points'].astype(int)\n        #df_return['points'] = df_return['points'].astype(int)\n\n        for row in df_return.iterrows():\n            yield (row[1]['match_id'], row[1]['name'], row[1]['points'])",
   "execution_count": null
  },
  {
   "cell_type": "code",
   "id": "98403504-7990-4d57-8213-392219697bff",
   "metadata": {
    "language": "python",
    "name": "UDTF_calc_game_outcome_knockout",
    "collapsed": false,
    "codeCollapsed": false
   },
   "outputs": [],
   "source": "# UDTF to combine the 2 predictions into 1 and return the winner\n# This is used in the knock-out stage when the winning team is promoted to the next round\n# NOTE: it also calls the penalty function in the event of a draw \n\noutput_struct = StructType([\n    StructField(\"match_id\", IntegerType()),\n    StructField(\"t1\", StringType()),\n    StructField(\"t2\", StringType()),\n    StructField(\"winner\", StringType()),\n    StructField(\"penalty_shootout\", StringType()),\n])\n\n@udtf(output_schema = output_struct,\n    input_types = [FloatType(), StringType(), FloatType(), FloatType()],\n    name = \"calc_game_outcome_knockout\", \n    session = session,\n    is_permanent=True, \n    stage_location=\"@python_load\",\n    packages=[\"pandas\"], \n    replace=True)\n\nclass calc_game_outcome_knockout:\n\n    def __init__(self):\n        self.fixture_id = []\n        self.team_name = []\n        self.outcome = []\n        self.rank_delta = []\n\n    def process(self, fixture_id, team_name, outcome, rank_delta):\n        self.fixture_id.append(fixture_id)\n        self.team_name.append(team_name)\n        self.outcome.append(outcome)\n        self.rank_delta.append(rank_delta)\n    \n    def end_partition(self):\n        df = pd.DataFrame(zip(self.fixture_id, self.team_name, self.outcome, self.rank_delta), columns=['ID', 'TEAM_1', 'OUTCOME', 'RANK_DELTA'])\n\n        df_return = pd.DataFrame(columns=['match_id','team_1','team_2','winner','penalty_shootout'])\n\n        team_1 = df.iloc[0]['TEAM_1']\n        team_2 = df.iloc[1]['TEAM_1']\n\n        rank_delta = df.iloc[0]['RANK_DELTA']\n\n        # Team 1 win, Team 2 loss - means Team 1 wins\n        if (df.iloc[0]['OUTCOME'] == 1) & (df.iloc[1]['OUTCOME'] == 0):\n            \n            row = [df.iloc[0]['ID'],team_1,team_2,team_1,'']\n            df_return.loc[len(df_return)] = row\n\n        # Team 1 win, Team 2 win - means draws\n        if (df.iloc[0]['OUTCOME'] == 1) & (df.iloc[1]['OUTCOME'] == 1):\n            \n            winning_team = penalty_shootout(team_1,team_2,rank_delta)\n            row = [df.iloc[0]['ID'],team_1,team_2,winning_team,'YES']\n            df_return.loc[len(df_return)] = row\n\n        # Team 1 loss, Team 1 loss - means draws\n        if (df.iloc[0]['OUTCOME'] == 0) & (df.iloc[1]['OUTCOME'] == 0):\n            \n            winning_team = penalty_shootout(team_1,team_2,rank_delta)\n            row = [df.iloc[0]['ID'],team_1,team_2,winning_team,'YES']\n            df_return.loc[len(df_return)] = row\n\n        # Team 1 loss, Team 2 win - means Team 2 win\n        if (df.iloc[0]['OUTCOME'] == 0) & (df.iloc[1]['OUTCOME'] == 1):\n            \n            row = [df.iloc[0]['ID'],team_1,team_2,team_2,'']\n            df_return.loc[len(df_return)] = row\n\n        for row in df_return.iterrows():\n            yield (row[1]['match_id'], row[1]['team_1'], row[1]['team_2'],row[1]['winner'], row[1]['penalty_shootout'])\n    \n",
   "execution_count": null
  },
  {
   "cell_type": "code",
   "id": "925a7475-8e22-4ba9-a541-b967efab8154",
   "metadata": {
    "language": "python",
    "name": "SPROC_prep_prediction_data",
    "collapsed": false,
    "codeCollapsed": false
   },
   "outputs": [],
   "source": "# SPROC that contains all the feature engineering code\n# this will take the fixture information and then calculate:\n# > difference in rank\n# > trailing performance for both teams\n# > determine whether this is in a neutral location\n#\n# NOTE: for this model, neutral will be true for all teams except Germany who are the host nation \n\ndef prep_prediction_data(session: snowflake.snowpark.Session, from_id: int, to_id: int) -> str:\n\n    # get list of fixtures for the groups stages\n    df_fixture = session.table(\"fixture_live\").select(\n            F.col('\"MATCH NUMBER\"').alias(\"id\"),\n            F.to_date(F.col('\"DATE\"'), \"DD/MM/YYYY HH24:MI\").alias(\"date\"),\n            F.col('\"HOME TEAM\"').alias('team_1'),\n            F.col('\"AWAY TEAM\"').alias('team_2')\n        ).filter(\n            (F.col('\"ID\"') >= from_id) & (F.col('\"ID\"') <= to_id))\n        \n    # rank stuff first\n    df_rank = session.table(\"rankings\").sort(F.col(\"rank_date\"), ascending=True)\n\n    df_match_rank_team_1 = df_fixture.join(\n        df_rank,\n        ((df_rank['rank_date'] <= df_fixture['date']) &\n        (df_fixture['team_1'] == df_rank['country_full'])),\n        'left'\n    ).sort(['id', df_rank['rank_date'].desc()])\n\n    window_spec = Window.partition_by('id').order_by(df_rank['rank_date'].desc())\n    df_match_rank_team_1 = df_match_rank_team_1.select(\n        F.row_number().over(window_spec).alias('row_number'),\n        'id',\n        'rank',\n        'rank_date'\n    ).filter(F.col('row_number') == 1)\n\n    df_match_rank_team_1 = df_match_rank_team_1.withColumnRenamed('id', 'team_1_id') \\\n        .withColumnRenamed('rank', 'team_1_rank') \\\n        .drop('row_number', 'rank_date')\n\n    # and next we'll want to do the same thing for the away team as well...\n    df_match_rank_team_2 = df_fixture.join(\n        df_rank,\n        (\n            (df_rank[\"rank_date\"] <= df_fixture[\"date\"])\n            & (df_fixture[\"team_2\"] == df_rank[\"country_full\"])\n        ),\n        \"left\",\n    ).sort([\"id\", F.desc(\"rank_date\")])\n\n    df_match_rank_team_2 = (\n        df_match_rank_team_2.select(\n            F.row_number()\n            .over(Window.partitionBy(\"id\").orderBy(F.desc(\"rank_date\")))\n            .alias(\"row_number\"),\n            \"id\",\n            \"rank\",\n            \"rank_date\",\n        )\n        .filter(F.col(\"row_number\") == 1)\n        .drop(\"row_number\", \"rank_date\")\n    )\n\n    # Rename columns to reflect they are for the away team\n    df_match_rank_team_2 = df_match_rank_team_2.withColumnRenamed(\n        \"id\", \"team_2_id\"\n    ).withColumnRenamed(\"rank\", \"team_2_rank\")\n\n    df_match_rank = (\n        df_match_rank_team_1.join(\n            df_match_rank_team_2,\n            df_match_rank_team_1[\"team_1_id\"] == df_match_rank_team_2[\"team_2_id\"],\n            \"left\",\n        )\n        .select(\n            df_match_rank_team_1[\"team_1_id\"].alias(\"id\"),\n            df_match_rank_team_1[\"team_1_rank\"],\n            df_match_rank_team_2[\"team_2_rank\"]\n        )\n        .sort(\"id\")\n    )\n\n    # and now trailing performance\n\n    # team_1 \n    df_history = (\n        session.table(\"results\")\n        .sort(F.col(\"id\"), ascending=True)\n    )\n\n    df_team_1 = (\n        df_fixture.join(\n            df_history,\n            (\n                (\n                    (df_fixture[\"team_1\"] == df_history[\"home_team\"]) | (df_fixture[\"team_1\"] == df_history[\"away_team\"])\n                )\n                & (df_history[\"date\"] < df_fixture[\"date\"])\n            ),\n            \"left\",\n        )\n        .select(\n            df_fixture[\"id\"].alias(\"id\"),\n            df_fixture[\"date\"].alias(\"match_date\"),\n            df_fixture[\"team_1\"],\n            df_fixture[\"team_2\"],\n            F.iff(\n                df_fixture[\"team_1\"] == F.lit('Germany'),0,\n                F.iff(df_fixture[\"team_2\"] == F.lit('Germany'),1,0)).alias('neutral'),\n            df_history[\"home_team\"].alias(\"home_team\"),\n            df_history[\"away_team\"].alias(\"away_team\"),\n            df_history[\"date\"].cast(DateType()).alias(\"history_date\"),\n            df_history[\"home_team_score\"].alias(\"home_team_score\"),\n            df_history[\"away_team_score\"].alias(\"away_team_score\"),\n        )\n        .with_column(\n            \"is_home\",\n            F.when(df_fixture[\"team_1\"] == df_history[\"home_team\"], 1).otherwise(0),\n        )\n        .with_column(\n            \"row_number\",\n            F.row_number().over(Window.partition_by(\"id\").order_by(F.col(\"history_date\").desc())),\n        )\n        .filter(F.col(\"row_number\") <= 10)\n        .drop(\"row_number\")\n    )\n\n    perf_udtf = F.table_function(\"calc_performance\")\n\n    df_team_1 = df_team_1.join_table_function(\n        perf_udtf(\n            df_team_1.col('id').cast(IntegerType()),\n            df_team_1.col('history_date').cast(DateType()),\n            df_team_1.col('home_team_score').cast(FloatType()),\n            df_team_1.col('away_team_score').cast(FloatType()),\n            df_team_1.col('is_home').cast(IntegerType())).over(partition_by='id',order_by=['history_date'])\n        )\\\n        .select(\n            F.col('id').alias('team_1_fixture_id'),\n            F.col('goal_diff').alias('team_1_goal_diff'),\n            F.col('ttl_wins').alias('team_1_ttl_wins'),\n            F.col('ttl_losses').alias('team_1_ttl_losses'),\n            F.col('ttl_draws').alias('team_1_ttl_draws')\n        )\n\n    # team 2\n    df_team_2 = (\n        df_fixture.join(\n            df_history,\n            (\n                (\n                    (df_fixture[\"team_2\"] == df_history[\"home_team\"])\n                    | (df_fixture[\"team_2\"] == df_history[\"away_team\"])\n                )\n                & (df_history[\"date\"] < df_fixture[\"date\"])\n            ),\n            \"left\",\n        )\n        .select(\n            df_fixture[\"id\"].alias(\"id\"),\n            df_fixture[\"date\"].alias(\"match_date\"),\n            df_fixture[\"team_1\"],\n            df_fixture[\"team_2\"],\n            F.iff(\n                df_fixture[\"team_1\"] == F.lit('Germany'),0,\n                F.iff(df_fixture[\"team_2\"] == F.lit('Germany'),1,0)).alias('neutral'),\n            df_history[\"home_team\"].alias(\"home_team\"),\n            df_history[\"away_team\"].alias(\"away_team\"),\n            df_history[\"date\"].cast(DateType()).alias(\"history_date\"),\n            df_history[\"home_team_score\"].alias(\"home_team_score\"),\n            df_history[\"away_team_score\"].alias(\"away_team_score\"),\n        )\n        .with_column(\n            \"is_home\",\n            F.when(df_fixture[\"team_2\"] == df_history[\"home_team\"], 1).otherwise(\n                0\n            ),\n        )\n        .with_column(\n            \"row_number\",\n            F.row_number().over(Window.partition_by(\"id\").order_by(F.col(\"history_date\").desc())),\n        )\n        .filter(F.col(\"row_number\") <= 10)\n        .drop(\"row_number\")\n    )\n\n    perf_udtf = F.table_function(\"calc_performance\")\n\n    df_team_2 = df_team_2.join_table_function(\n        perf_udtf(\n            df_team_2.col('id').cast(IntegerType()),\n            df_team_2.col('history_date').cast(DateType()),\n            df_team_2.col('home_team_score').cast(FloatType()),\n            df_team_2.col('away_team_score').cast(FloatType()),\n            df_team_2.col('is_home').cast(IntegerType())).over(partition_by='id',order_by=['history_date'])\n        ) \\\n        .select(\n            F.col('id').alias('team_2_fixture_id'),\n            F.col('goal_diff').alias('team_2_goal_diff'),\n            F.col('ttl_wins').alias('team_2_ttl_wins'),\n            F.col('ttl_losses').alias('team_2_ttl_losses'),\n            F.col('ttl_draws').alias('team_2_ttl_draws')\n        )\n\n    # and the perfornance final join\n    df_team_perf = df_team_1 \\\n        .join(\n            df_team_2,\n            (\n                df_team_2.col('team_2_fixture_id') == df_team_1.col('team_1_fixture_id')\n            ),\n            'left'\n        ).drop(\n            'team_2_fixture_id'\n        ).rename(\n            F.col(\"team_1_fixture_id\"), 'id'\n        )\n\n    # join the rank and performance together\n    df_fixture_full = df_fixture.join(\n        df_match_rank,\n        (\n            df_fixture.col('id') == df_match_rank.col('id')\n        ),\n        'left'\n    ).join(\n        df_team_perf,\n        (\n            df_fixture.col('id') == df_team_perf.col('id')\n        ),\n        'left'\n    ).select(\n        df_fixture.col('id').alias('match_id'),\n        df_team_perf.col('team_1_goal_diff'),\n        df_team_perf.col('team_1_ttl_wins'),\n        df_team_perf.col('team_1_ttl_losses'),\n        df_team_perf.col('team_2_goal_diff'),\n        df_team_perf.col('team_2_ttl_wins'),\n        df_team_perf.col('team_2_ttl_losses'),\n        (df_match_rank.col('team_1_rank') - df_match_rank.col('team_2_rank')).alias('team_1_vs_team_2_rank'),\n    ).sort(\n        F.col('id'), ascending=True\n    ).na.fill(0)\n\n    # add back in the team names\n    df_fixture_full = df_fixture_full.join(\n        df_fixture,\n        (df_fixture_full.col('match_id') == df_fixture.col('id')),\n        'left'\n    ).select(\n        df_fixture[\"ID\"],\n        df_fixture[\"TEAM_1\"],\n        df_fixture[\"TEAM_2\"],\n        df_fixture_full[\"TEAM_1_TTL_WINS\"],\n        df_fixture_full[\"TEAM_1_TTL_LOSSES\"],\n        df_fixture_full[\"TEAM_1_GOAL_DIFF\"],\n        df_fixture_full[\"TEAM_2_TTL_WINS\"],\n        df_fixture_full[\"TEAM_2_TTL_LOSSES\"],\n        df_fixture_full[\"TEAM_2_GOAL_DIFF\"],\n        df_fixture_full[\"TEAM_1_VS_TEAM_2_RANK\"]\n    )\n\n    # split the games up, so we run predictions for both teams\n    df_fixture_first = df_fixture_full.select(\n        F.col('id'),\n\n        df_fixture_full.col('team_1').alias('team_1'),\n\n        df_fixture_full.col('team_1_ttl_wins'),\n        df_fixture_full.col('team_1_ttl_losses'),\n        df_fixture_full.col('team_1_goal_diff'),\n\n        df_fixture_full.col('team_2_ttl_wins'),\n        df_fixture_full.col('team_2_ttl_losses'),\n        df_fixture_full.col('team_2_goal_diff'),\n        \n        df_fixture_full.col('team_1_vs_team_2_rank')\n    )\n\n    df_fixture_second = df_fixture_full.select(\n        F.col('id'),\n\n        df_fixture_full.col('team_2').alias('team_1'),\n\n        df_fixture_full.col('team_2_ttl_wins').alias('team_1_ttl_wins'),\n        df_fixture_full.col('team_2_ttl_losses').alias('team_1_ttl_losses'),\n        df_fixture_full.col('team_2_goal_diff').alias('team_1_goal_diff'),\n        \n        df_fixture_full.col('team_1_ttl_wins').alias('team_2_ttl_wins'),\n        df_fixture_full.col('team_1_ttl_losses').alias('team_2_ttl_losses'),\n        df_fixture_full.col('team_1_goal_diff').alias('team_2_goal_diff'),\n        \n        df_fixture_full.col('team_1_vs_team_2_rank').alias('temp_df_team_1_vs_team_2_rank')\n    )\n\n    df_fixture_second = df_fixture_second.withColumn('team_1_vs_team_2_rank', -1 * df_fixture_second.col('temp_df_team_1_vs_team_2_rank'))\n    df_fixture_second = df_fixture_second.drop('temp_df_team_1_vs_team_2_rank')\n\n    df_fixture_all = df_fixture_first.union(df_fixture_second)\n\n    df_fixture_all = df_fixture_all.with_column(\n        'NEUTRAL',\n        F.iff(df_fixture_all.col('team_1') == 'Germany',0,1)\n    ) \n\n    df_fixture_all.write.save_as_table('data_for_predictions',mode='overwrite', table_type='temp')\n\n    return 'done'\n\nsession.sproc.register(\n    func=prep_prediction_data, \n    name=\"prep_prediction_data\", \n    packages=['snowflake-snowpark-python'],\n    is_permanent=True,\n    stage_location='python_load',\n    session=session,\n    replace=True,\n    execute_as='caller'\n)",
   "execution_count": null
  },
  {
   "cell_type": "code",
   "id": "f0cfdc52-b441-4884-a92f-30eb585cae62",
   "metadata": {
    "language": "python",
    "name": "SPROC_process_group_predictions",
    "collapsed": false,
    "codeCollapsed": false
   },
   "outputs": [],
   "source": "# SPROC to take the output from the model predictions and build the results view\n# This will also be used to determine who should be in the next round\n#\n# NOTE: This is only for processing predictions from the group stage, since these are handled differently to knockout\n\ndef process_group_predictions(session: snowflake.snowpark.Session) -> str:\n\n    prediction = session.table('predictions')\n    \n    # combine predictions\n    outcome_udtf = F.table_function(\"calc_game_outcome\")\n\n    df_round_1_outcome = prediction.join_table_function(\n        outcome_udtf(\n            prediction.col('id').cast(FloatType()),\n            prediction.col('team_1').cast(StringType()),\n            prediction.col('output_game_outcome').cast(FloatType())).over(partition_by='id')\n        ).select(\n            F.col('match_id'),\n            F.col('team_name'),\n            F.col('points')    \n        ) \n\n    # join the points calculations back to the original fixtures\n    df_fixture = session.table('fixture')\n\n    df_round_1_outcome = df_round_1_outcome.join(\n        df_fixture,\n        (df_round_1_outcome.col('match_id') == df_fixture.col('\"MATCH NUMBER\"')),\n        'left'\n    ).select(\n        df_round_1_outcome.col('match_id'),\n        df_round_1_outcome.col('team_name'),\n        df_round_1_outcome.col('points'),\n        df_fixture.col('\"GROUP\"').alias('group')\n    )\n\n    df_round_1_outcome = df_round_1_outcome.group_by(['group','team_name']).agg(F.sum('points').alias('points')).order_by(F.col('group'),F.col('points').desc())\n\n    window_spec = Window.partition_by('group').order_by(df_round_1_outcome['points'].desc())\n    df_round_1_outcome = df_round_1_outcome.with_column('rank', F.row_number().over(window_spec))\n    df_round_1_outcome = df_round_1_outcome.with_column('qualified',F.iff(((df_round_1_outcome.col('rank') == 1 ) | (df_round_1_outcome.col('rank') == 2)),'YES',''))\n    df_round_1_outcome = df_round_1_outcome.with_column(\n        'place_code',\n        F.concat(\n            F.col('rank'),\n            F.right(df_fixture.col('\"GROUP\"'),1))\n        )\n        \n    df_round_1_outcome.write.save_as_table('results_group_stage', mode='overwrite',table_type='temp')\n\n    # now factor in the top 4 3rd place teams - really annoying to have to do this UEFA!\n    df_3rd_place_teams = session.table('results_group_stage').filter(df_round_1_outcome.col('rank') == 3)\n\n    window_spec = Window.order_by(df_3rd_place_teams['points'].desc())\n    df_3rd_place_teams = df_3rd_place_teams.with_column(\n        'rank_third',\n        F.row_number().over(window_spec))\n\n    df_3rd_place_teams = df_3rd_place_teams.filter(df_3rd_place_teams.col('rank_third') <= 4)\n\n    # do a merge update to mark the 3rd place teams as qualifying\n    target = session.table('results_group_stage')\n    source = df_3rd_place_teams\n\n    target.merge(\n        source,\n        (target['group'] == source['group']) & (target['team_name'] == source['team_name']),\n        [\n            F.when_matched().update(\n                {'qualified': F.lit('YES')}\n            )\n        ]\n    )\n\n    target.write.save_as_table('results_group_stage', mode='overwrite',table_type='temp')\n    \n    return 'done'\n\nsession.sproc.register(\n    func=process_group_predictions, \n    name=\"process_group_predictions\", \n    packages=['snowflake-snowpark-python'],\n    is_permanent=True,\n    stage_location='python_load',\n    session=session,\n    replace=True,\n    execute_as='caller'\n)\n\n",
   "execution_count": null
  },
  {
   "cell_type": "code",
   "id": "ac31c376-1326-4463-9940-f84c247d3a78",
   "metadata": {
    "language": "python",
    "name": "SPROC_calculate_r16_games",
    "collapsed": false,
    "codeCollapsed": false
   },
   "outputs": [],
   "source": "# SPROC to calculate what teams are in the first knockout round (round of 16)\n# This is only used once, as there's only one situation where we go from group to knockout\n\ndef calculate_r16_games(session: snowflake.snowpark.Session) -> str:\n\n    # get list of fixtures for the groups stages\n    df_round_r16 = (\n        session.table(\"fixture\")\n        .select(\n            F.col('\"MATCH NUMBER\"').alias(\"id\"),\n            F.to_date(F.col('\"DATE\"'), \"DD/MM/YYYY HH24:MI\").alias(\"date\"),\n            F.col('\"HOME TEAM\"').alias('team_1'),\n            F.col('\"AWAY TEAM\"').alias('team_2'),\n            F.col('\"ROUND NUMBER\"')\n        )\n        .filter(\n            (F.col('\"ROUND NUMBER\"') == 'Round of 16')))\n\n    df_round_r16.write.save_as_table('fixture_round_of_16', mode='overwrite',table_type='temp')\n\n    target = session.table(\"fixture_round_of_16\")\n    source = session.table('results_group_stage')\n\n    # first merge pass\n    target.merge(\n        source,\n        (target['team_1'] == source['place_code']),\n        [\n            F.when_matched().update(\n                {'team_1': source.col('team_name')}\n            )\n        ]\n    )\n\n    target.collect()\n\n    target = session.table(\"fixture_round_of_16\")\n    source = session.table('results_group_stage')\n\n    # first merge pass to populate the teams we have explicit joins on (i.e. 1A, 2D)\n    target.merge(\n        source,\n        (target['team_2'] == source['place_code']),\n        [\n            F.when_matched().update(\n                {'team_2': source.col('team_name')}\n            )\n        ]\n    )\n\n    target.collect()\n\n    # now we allocate 3rd place teams\n    df_round_r16 = session.table(\"fixture_round_of_16\")\n    df_round_r16 = df_round_r16.filter(F.left(df_round_r16.col('team_2'),1) == '3')\n\n    window_spec = Window.order_by(df_round_r16['team_2'].desc())\n    df_round_r16 = df_round_r16.with_column('team_3_rank_join',F.row_number().over(window_spec))\n\n    df_groups_3rd = session.table('results_group_stage').filter(\n        (F.left(F.col('place_code'),1) == '3') & (F.col('qualified') == 'YES'))\n\n    window_spec = Window.order_by(df_groups_3rd['place_code'].desc())\n    df_groups_3rd = df_groups_3rd.with_column('rank_join',F.row_number().over(window_spec))\n\n    df_groups_3rd = df_round_r16.join(\n        df_groups_3rd,\n        (df_groups_3rd.col('rank_join') == df_round_r16.col('team_3_rank_join')),\n        'left').select(    \n            df_round_r16.col('id'),\n            df_groups_3rd.col('team_name')    \n        )\n\n    target = session.table(\"fixture_round_of_16\")\n    source = df_groups_3rd\n\n    target.merge(\n        source,\n        (target.col('id') == source.col('id')),\n        [\n            F.when_matched().update(\n                {'team_2': source.col('team_name')}\n            )\n        ]\n    )\n\n    target.collect() \n\n    target = session.table('fixture_live')\n    source = session.table('fixture_round_of_16')\n\n    target.merge(\n        source,\n        (target.col('\"MATCH NUMBER\"') == source.col('id')),\n        [\n            F.when_matched().update(\n                {\n                    '\"HOME TEAM\"': source.col('team_1'),\n                    '\"AWAY TEAM\"': source.col('team_2'),\n                }\n            )\n        ]\n    )\n\n    target.collect()\n\n    return 'done'\n\nsession.sproc.register(\n    func=calculate_r16_games, \n    name=\"calculate_r16_games\", \n    packages=['snowflake-snowpark-python'],\n    is_permanent=True,\n    stage_location='python_load',\n    session=session,\n    replace=True,\n    execute_as='caller'\n)",
   "execution_count": null
  },
  {
   "cell_type": "code",
   "id": "355caa8a-e0ee-4620-bf27-79efe1e08a8d",
   "metadata": {
    "language": "python",
    "name": "SPROC_process_knockout_predictions",
    "collapsed": false,
    "codeCollapsed": false
   },
   "outputs": [],
   "source": "# SPROC used for all knockout games\n# It takes the predictions from the ML model and calculates \n# which teams won and should move to the next round\n\ndef process_knockout_predictions(session: snowflake.snowpark.Session) -> str:\n\n    prediction = session.table('predictions')\n    fixture_rank = session.table('data_for_predictions')\n\n    prediction = prediction.join(\n        fixture_rank,\n        (prediction.col('id') == fixture_rank.col('id')),\n        'left'\n    ).select(\n        prediction.col('id').alias('id'),\n        prediction.col('team_1').alias('team_1'),\n        prediction.col('output_game_outcome').alias('output_game_outcome'),\n        fixture_rank.col('team_1_vs_team_2_rank').alias('team_1_vs_team_2_rank')\n    )\n\n    outcome_udtf = F.table_function(\"calc_game_outcome_knockout\")\n\n    df_round = prediction.join_table_function(\n        outcome_udtf(\n            prediction.col('id').cast(FloatType()),\n            prediction.col('team_1').cast(StringType()),\n            prediction.col('output_game_outcome').cast(FloatType()),\n            prediction.col('team_1_vs_team_2_rank').cast(FloatType())).over(partition_by='id')\n        ).select(\n            F.col('match_id'),\n            F.col('t1').alias('team_1'),\n            F.col('t2').alias('team_2'),\n            F.col('winner'),\n            F.col('penalty_shootout'),\n        ) \n    \n    df_round.write.save_as_table('results_ko_stage',mode='overwrite',table_type='temp')\n    return 'done'\n\nsession.sproc.register(\n    func=process_knockout_predictions, \n    name=\"process_knockout_predictions\", \n    packages=['snowflake-snowpark-python'],\n    is_permanent=True,\n    stage_location='python_load',\n    session=session,\n    replace=True,\n    execute_as='caller')",
   "execution_count": null
  },
  {
   "cell_type": "code",
   "id": "5320a5a6-3901-4ba2-b5f9-bf969238cfa3",
   "metadata": {
    "language": "python",
    "name": "SPROC_calc_knockout_games",
    "collapsed": false,
    "codeCollapsed": false
   },
   "outputs": [],
   "source": "# SPROC to calculate the next round of matches for the knockout phase\n# It requires the round_name parameter\n\ndef calc_knockout_games(session: snowflake.snowpark.Session, round_name: str) -> str:\n\n    df_round = session.table('results_ko_stage')\n    \n    if round_name == 'Quarter Finals':\n        round_add = 4\n\n    if round_name == 'Semi Finals':\n        round_add = 2\n\n    if round_name == 'Final':\n        round_add = 1\n\n    # at this point Im just going to randomly match teams...\n    window_spec = Window.order_by(df_round['winner'].desc())\n\n    df_round = df_round.with_column('winner_rank_join',F.row_number().over(window_spec))\n    df_round.order_by('\"WINNER_RANK_JOIN\"')\n\n    df_fixture = session.table('fixture_live').filter(F.col('\"ROUND NUMBER\"') == round_name)\n\n    window_spec = Window.order_by(df_fixture['\"MATCH NUMBER\"'].asc())\n    df_fixture = df_fixture.with_column('rank_join',F.row_number().over(window_spec))\n\n    # populate home_team column\n    df_fixture = df_fixture.join(\n        df_round,\n        (df_round.col('winner_rank_join') == df_fixture.col('rank_join')),\n        'left'\n    ).select(\n        df_fixture.col('\"MATCH NUMBER\"').alias('match_id'),\n        df_round.col('winner').alias('home_team'),\n        df_fixture.col('rank_join')\n    )\n\n    # populate away_team column\n    df_fixture = df_fixture.join(\n        df_round,\n        (df_round.col('winner_rank_join') == (df_fixture.col('rank_join') + round_add)),\n        'left'\n    ).select(\n        df_fixture.col('match_id').alias('match_id'),\n        df_fixture.col('home_team'),\n        df_round.col('winner').alias('away_team')\n    )\n\n    target = session.table('fixture_live')\n    source = df_fixture\n\n    # first merge pass\n    target.merge(\n        source,\n        (target['\"MATCH NUMBER\"'] == source['match_id']),\n        [\n            F.when_matched().update(\n                {'\"HOME TEAM\"': source.col('home_team')}\n            )\n        ]\n    )\n\n    target.collect()\n\n    target.merge(\n        source,\n        (target['\"MATCH NUMBER\"'] == source['match_id']),\n        [\n            F.when_matched().update(\n                {'\"AWAY TEAM\"': source.col('away_team')}\n            )\n        ]\n    )\n\n    target.collect()\n    \n    return 'done'\n\nsession.sproc.register(\n    func=calc_knockout_games, \n    name=\"calc_knockout_games\", \n    packages=['snowflake-snowpark-python'],\n    is_permanent=True,\n    stage_location='python_load',\n    session=session,\n    replace=True,\n    execute_as='caller'\n)",
   "execution_count": null
  },
  {
   "cell_type": "markdown",
   "id": "25fd7da5-dd9a-483e-8645-36c55da854c3",
   "metadata": {
    "name": "_Summary",
    "collapsed": false
   },
   "source": "# Summary\n\nLet's double check we have all the objects we created.\n\n### Stored Procedures:\n\n- ```CALCULATE_R16_GAMES()```\n- ```CALC_KNOCKOUT_GAMES(VARCHAR)```\n- ```PREP_PREDICTION_DATA(NUMBER, NUMBER)```\n- ```PROCESS_GROUP_PREDICTIONS()```\n- ```PROCESS_KNOCKOUT_PREDICTIONS()```\n\n### UDTFs:\n- ```CALC_GAME_OUTCOME(FLOAT, VARCHAR, FLOAT)```\n- ```CALC_GAME_OUTCOME_KNOCKOUT(FLOAT, VARCHAR, FLOAT, FLOAT)```\n\n(note - we also created a function and UDTF earlier, they will appear in the list too)"
  },
  {
   "cell_type": "code",
   "id": "fdf39e1e-75c8-4071-9a0f-3ee070a3ab46",
   "metadata": {
    "language": "sql",
    "name": "Show_procedures",
    "collapsed": false,
    "codeCollapsed": false
   },
   "outputs": [],
   "source": "-- we should now see all our procs \n\nshow user procedures in schema public;",
   "execution_count": null
  },
  {
   "cell_type": "code",
   "id": "03170051-78e2-4f48-9d7e-1614d7494b29",
   "metadata": {
    "language": "sql",
    "name": "Show_functions",
    "collapsed": false,
    "codeCollapsed": false
   },
   "outputs": [],
   "source": "-- and our UDFs & UDTFs\n\nshow user functions in schema public;",
   "execution_count": null
  }
 ]
}