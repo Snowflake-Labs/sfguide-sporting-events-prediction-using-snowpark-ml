{
 "metadata": {
  "kernelspec": {
   "display_name": "Streamlit Notebook",
   "name": "streamlit"
  }
 },
 "nbformat_minor": 5,
 "nbformat": 4,
 "cells": [
  {
   "cell_type": "markdown",
   "id": "f5c43a08-4105-4083-9ec4-6b6275d31f67",
   "metadata": {
    "name": "_Intro",
    "collapsed": false
   },
   "source": "# The final stretch - predicting the Euro 2024 Winner! ⚽\n\n![image](https://i.gifer.com/9aZd.gif)\n\n---\n\n### 1. Show Fixture Data\n\n**Objective:** Provide an overview of the fixture data for the Euro Cup 2024.\n\n- **Initial Fixture Table**: Make a copy of the fixture table to preserve the original data.\n\n### 2. Prep Data for Prediction\n\n**Objective:** Prepare the data for predictive modeling.\n\n- **Data Preprocessing**: Clean and transform the fixture data as necessary for prediction tasks.\n\n### 3. Predict Results\n\n**Objective:** Utilize predictive models to forecast match outcomes.\n\n- **Prediction Process**: Employ suitable algorithms to predict match results.\n- **Handling Shootouts**: Implement mechanisms to manage shootouts for knockout stage predictions.\n\n### 4. Show Results\n\n**Objective:** Present the predicted results of the Euro Cup 2024 matches.\n\n- **Display Predicted Outcomes**: Showcase the forecasted results of each match.\n\n---\n\n🛑 **Check your packages!** 🛑\n\nMake sure you have the following package adding from the `Packages` drop down:\n- `snowflake-ml-python == 1.5.0`"
  },
  {
   "cell_type": "code",
   "id": "84f2c727-af68-4511-899c-0917f6edcf55",
   "metadata": {
    "language": "python",
    "name": "Import_Libs",
    "collapsed": false,
    "codeCollapsed": false
   },
   "outputs": [],
   "source": "import snowflake.snowpark\nfrom snowflake.snowpark.session import Session\nfrom snowflake.snowpark import Window\nfrom snowflake.snowpark import functions as F   \nfrom snowflake.snowpark.functions import udf, udtf\nfrom snowflake.snowpark.types import IntegerType, FloatType, StringType, StructField, StructType, DateType\nfrom snowflake.ml.registry import Registry\n    \nimport pandas as pd\nimport numpy as np\n\nimport streamlit as st\n\nimport warnings\nwarnings.filterwarnings('ignore')",
   "execution_count": null
  },
  {
   "cell_type": "code",
   "id": "9908f3ab-97f1-4610-8674-8655b80862d3",
   "metadata": {
    "language": "python",
    "name": "Function_Get_Active_Session",
    "collapsed": false,
    "codeCollapsed": false
   },
   "outputs": [],
   "source": "from snowflake.snowpark.context import get_active_session\nsession = get_active_session()\n\n# add version tracking\napp_tag = {\n    \"origin\": \"sf_sit\",\n    \"name\": \"hol_sport_predict\",\n    \"version\": '{major: 1, minor: 0}'\n}\n\nsession.query_tag = app_tag",
   "execution_count": null
  },
  {
   "cell_type": "code",
   "id": "ef146274-a07c-4d1e-8afe-eab82f894c8a",
   "metadata": {
    "language": "python",
    "name": "Get_User_Name",
    "collapsed": false
   },
   "outputs": [],
   "source": "user_name = session.sql('select current_user()').collect()[0][0]",
   "execution_count": null
  },
  {
   "cell_type": "code",
   "id": "9bc0d269-acdf-41a8-b9e8-4f0c109ebeb5",
   "metadata": {
    "language": "python",
    "name": "Get_Model",
    "collapsed": false
   },
   "outputs": [],
   "source": "# let's load our model from the registry into memory\n\nreg = Registry(session=session)\n\nmv = reg.get_model(\"EURO_24_GAME_PREDICT\").default",
   "execution_count": null
  },
  {
   "cell_type": "markdown",
   "id": "deb8bb25-23cc-4a59-b069-83c0bd0ffdaf",
   "metadata": {
    "name": "_GroupStage_Prediction",
    "collapsed": false
   },
   "source": "# Group Stage"
  },
  {
   "cell_type": "code",
   "id": "7b682945-6ddb-49a2-a79c-1204f7b9ec1a",
   "metadata": {
    "language": "python",
    "name": "Set_threshold",
    "collapsed": false
   },
   "outputs": [],
   "source": "# adjustable threashold.\n#\n# setting at 0.5 introduces too many penalty shootouts\n\nwin_threshold = 0.45\n\n# we can also use streamlit controller for this (DON'T DO THIS YET)\n#win_threshold = st.slider(label='Threshold', min_value=0.0 ,max_value=1.0 ,value=0.45)",
   "execution_count": null
  },
  {
   "cell_type": "code",
   "id": "c038c3e3-366b-4a15-91d5-dcd7d81c2f97",
   "metadata": {
    "language": "python",
    "name": "GroupStage_ShowData",
    "collapsed": false,
    "codeCollapsed": false
   },
   "outputs": [],
   "source": "# lets make a copy of the fixtures, one with original data and then one we'll update as we go along\ndf_fixture_copy = session.table('fixture')\ndf_fixture_copy.write.save_as_table(f'fixture_{user_name}',mode='overwrite')\n\n# get list of fixtures for the groups stages\ndf_round_1 = (\n    session.table(f'fixture_{user_name}')\n    .select(\n        F.col('\"MATCH NUMBER\"').alias(\"id\"),\n        F.col('\"ROUND NUMBER\"').alias('round'),\n        F.to_date(F.col('\"DATE\"'), \"DD/MM/YYYY HH24:MI\").alias(\"date\"),\n        F.col('\"HOME TEAM\"').alias('team_1'),\n        F.col('\"AWAY TEAM\"').alias('team_2'),\n        F.col('\"GROUP\"').alias('group')\n    )\n)\n\ndf_round_1",
   "execution_count": null
  },
  {
   "cell_type": "code",
   "id": "77ef219a-8099-4619-bbd6-27982f340241",
   "metadata": {
    "language": "python",
    "name": "GroupStage_Prep_Data",
    "collapsed": false,
    "codeCollapsed": false
   },
   "outputs": [],
   "source": "# call the sproc that will run all our feature engineering code on the games we want to predict\n#\n# note - the 0 and 36 params refer to fixtures, we are only processing the feature engineering code for fixtures 0 through 36\n# but...because we predict for both games twice we end up with 72 rows.\n\nsession.call('prep_prediction_data',0,36)\n\ndf_pred = session.table('data_for_predictions').order_by('id')\n\nst.dataframe(data=df_pred)",
   "execution_count": null
  },
  {
   "cell_type": "code",
   "id": "406b07ea-a9bd-46f9-a0b4-d31cb56757a4",
   "metadata": {
    "language": "python",
    "name": "GroupStage_Predict",
    "collapsed": false
   },
   "outputs": [],
   "source": "# run predictions on all the group stage games\n\npred_df = session.table('data_for_predictions').order_by('id')\nprediction = mv.run(pred_df, function_name=\"predict_proba\")\nprediction = prediction.with_column('output_game_outcome',F.iff(F.col('predict_proba_1') > win_threshold,1,0))\nprediction.write.save_as_table('predictions',mode='overwrite',table_type='temp')\n\nsession.table('predictions').select(\n    prediction.col('id'),\n    prediction.col('team_1'),\n    prediction.col('output_game_outcome')\n).order_by('id')",
   "execution_count": null
  },
  {
   "cell_type": "code",
   "id": "f4a2798a-c4fa-4e27-88f7-d87e9eda2dc6",
   "metadata": {
    "language": "sql",
    "name": "GroupStage_Predict_Results_SQL",
    "collapsed": false
   },
   "outputs": [],
   "source": "-- We can also run the prediction in SQL, where we can call our model using:\n-- MODEL_NAME!PREDICT_PROBA()\n\nSELECT \n    \"ID\", \n    \"TEAM_1\",  \n    CAST (\"TMP_RESULT\"['PREDICT_PROBA_0'] AS DOUBLE) AS \"PREDICT_PROBA_0\",  \n    CAST (\"TMP_RESULT\"['PREDICT_PROBA_1'] AS DOUBLE) AS \"PREDICT_PROBA_1\" \nFROM \n(\n    WITH SNOWPARK_ML_MODEL_INFERENCE_INPUT AS (\n        SELECT  \n            *  \n        FROM \n            data_for_predictions \n        ORDER BY \"ID\" ASC\n    ),\n    MODEL_VERSION_ALIAS AS MODEL EURO2024.PUBLIC.EURO_24_GAME_PREDICT VERSION V_1\n                \n    SELECT \n        *,\n        MODEL_VERSION_ALIAS!PREDICT_PROBA(\n            ID, \n            NEUTRAL, \n            TEAM_1_GOAL_DIFF, \n            TEAM_1_TTL_WINS, \n            TEAM_1_TTL_LOSSES, \n            TEAM_2_GOAL_DIFF, \n            TEAM_2_TTL_WINS, \n            TEAM_2_TTL_LOSSES, \n            TEAM_1_VS_TEAM_2_RANK\n        ) AS TMP_RESULT\n    FROM \n        SNOWPARK_ML_MODEL_INFERENCE_INPUT\n)",
   "execution_count": null
  },
  {
   "cell_type": "code",
   "id": "6b040302-9fd8-41f7-9ebb-975f3e7096f3",
   "metadata": {
    "language": "python",
    "name": "GroupStage_Show_Results",
    "collapsed": false,
    "codeCollapsed": false
   },
   "outputs": [],
   "source": "# lets take the output of our predictions \n# \n# we restructure this into the groups sorted by points to determine the teams that go through\n# 1st & 2nd, along with the 4 teams who ranked the highest in 3rd place (confusing right?) \n\nsession.call('process_group_predictions')\n\n# we should have our final tables for completed group stages\n\nst.dataframe(data=session.table('results_group_stage').filter(F.col('group') == 'Group A').order_by(F.col('group'),F.col('rank').asc()))\nst.dataframe(data=session.table('results_group_stage').filter(F.col('group') == 'Group B').order_by(F.col('group'),F.col('rank').asc()))\nst.dataframe(data=session.table('results_group_stage').filter(F.col('group') == 'Group C').order_by(F.col('group'),F.col('rank').asc()))\nst.dataframe(data=session.table('results_group_stage').filter(F.col('group') == 'Group D').order_by(F.col('group'),F.col('rank').asc()))\nst.dataframe(data=session.table('results_group_stage').filter(F.col('group') == 'Group E').order_by(F.col('group'),F.col('rank').asc()))\nst.dataframe(data=session.table('results_group_stage').filter(F.col('group') == 'Group F').order_by(F.col('group'),F.col('rank').asc()))",
   "execution_count": null
  },
  {
   "cell_type": "markdown",
   "id": "16a78419-9d3e-4ecd-a771-2af94ef67f5c",
   "metadata": {
    "name": "_Round16_Prediction",
    "collapsed": false
   },
   "source": "# Round of 16 "
  },
  {
   "cell_type": "code",
   "id": "be41903c-9d32-4cab-8694-a8690478812a",
   "metadata": {
    "language": "python",
    "name": "Round16_Show_Data",
    "collapsed": false,
    "codeCollapsed": false
   },
   "outputs": [],
   "source": "# take the results of the group stage and insert the team names inmto the Round of 16 fixtures\n# now we see who will be playing each each in the next phase\n\nsession.call('calculate_r16_games')\ndf_results = session.table(f'fixture_{user_name}').filter(F.col('\"ROUND NUMBER\"') == 'Round of 16').order_by('\"MATCH NUMBER\"')\n\n# we can also use Streamlit to show snowpark dataframes (though this is only compatible for Snowflake Notebooks!)\n# otherwise use df_results.show(8)\n\ndf_results",
   "execution_count": null
  },
  {
   "cell_type": "code",
   "id": "b2025436-0c5b-41e4-bb04-09db3a1729fa",
   "metadata": {
    "language": "python",
    "name": "Round16_Prep_Data",
    "collapsed": false,
    "codeCollapsed": false
   },
   "outputs": [],
   "source": "# run the feature engineering code\n# note the different fixture id parameters\n\nsession.call('prep_prediction_data',37,44)\nsession.table('data_for_predictions').order_by('id')",
   "execution_count": null
  },
  {
   "cell_type": "code",
   "id": "58f60071-38c4-41a6-8341-3bd559254a4a",
   "metadata": {
    "language": "python",
    "name": "Round16_Predict_Results",
    "collapsed": false,
    "codeCollapsed": false
   },
   "outputs": [],
   "source": "# run predictions on all the games\n\npred_df = session.table('data_for_predictions').order_by('id')\nprediction = mv.run(pred_df, function_name=\"predict_proba\")\nprediction = prediction.with_column('output_game_outcome',F.iff(F.col('predict_proba_1') > win_threshold,1,0))\nprediction.write.save_as_table('predictions',mode='overwrite',table_type='temp')\n\nsession.table('predictions').select(\n    prediction.col('id'),\n    prediction.col('team_1'),\n    prediction.col('output_game_outcome')\n).order_by('id')",
   "execution_count": null
  },
  {
   "cell_type": "code",
   "id": "31d6b877-f069-48c4-8da6-5e6375395566",
   "metadata": {
    "language": "python",
    "name": "Round16_Show_Results",
    "collapsed": false,
    "codeCollapsed": false
   },
   "outputs": [],
   "source": "# lets process the predictions into a format where we can see the winners\n#\n# note - since this is a knockout stage, any draws will have to be resolved by a penalty shootout\n\nsession.call('process_knockout_predictions')\nsession.table('results_ko_stage').order_by('match_id')",
   "execution_count": null
  },
  {
   "cell_type": "markdown",
   "id": "42a86154-fc44-48d9-aace-54681a2b23c0",
   "metadata": {
    "name": "_QuarterFinals_Prediction",
    "collapsed": false
   },
   "source": "# Quarter-finals"
  },
  {
   "cell_type": "code",
   "id": "d6d85dd0-1199-480b-9fc6-ef724d6332b7",
   "metadata": {
    "language": "python",
    "name": "QuarterFinals_Show_Data",
    "collapsed": false,
    "codeCollapsed": false
   },
   "outputs": [],
   "source": "# see the quarter final games as a result of the previous round\n\nsession.call('calc_knockout_games','Quarter Finals')\nsession.table(f'fixture_{user_name}').filter(F.col('\"ROUND NUMBER\"') == 'Quarter Finals').order_by('\"MATCH NUMBER\"')",
   "execution_count": null
  },
  {
   "cell_type": "code",
   "id": "a59862e6-947a-495d-a329-428cd7ab8633",
   "metadata": {
    "language": "python",
    "name": "QuarterFinals_Prep_Data",
    "collapsed": false,
    "codeCollapsed": false
   },
   "outputs": [],
   "source": "# feature engineering code\n\nsession.call('prep_prediction_data',45,48)\nsession.table('data_for_predictions').order_by('id')",
   "execution_count": null
  },
  {
   "cell_type": "code",
   "id": "59d895a2-c4c4-4753-bee0-24ae6848b933",
   "metadata": {
    "language": "python",
    "name": "QuarterFinals_Predict_Results",
    "collapsed": false,
    "codeCollapsed": false
   },
   "outputs": [],
   "source": "# run predictions on all the games\n\npred_df = session.table('data_for_predictions').order_by('id')\nprediction = mv.run(pred_df, function_name=\"predict_proba\")\nprediction = prediction.with_column('output_game_outcome',F.iff(F.col('predict_proba_1') > win_threshold,1,0))\nprediction.write.save_as_table('predictions',mode='overwrite',table_type='temp')\n\nsession.table('predictions').select(\n    prediction.col('id'),\n    prediction.col('team_1'),\n    prediction.col('output_game_outcome')\n).order_by('id')",
   "execution_count": null
  },
  {
   "cell_type": "code",
   "id": "4e6b71ed-96a9-4add-8ebb-52bf69b4e31a",
   "metadata": {
    "language": "python",
    "name": "QuarterFinals_Show_Results",
    "collapsed": false,
    "codeCollapsed": false
   },
   "outputs": [],
   "source": "# process the predictions to see the winner \n\nsession.call('process_knockout_predictions')\nsession.table('results_ko_stage').order_by('match_id')",
   "execution_count": null
  },
  {
   "cell_type": "markdown",
   "id": "ddd32270-d16c-4115-9c55-8065ce2a9597",
   "metadata": {
    "name": "_Semifinals_Prediction",
    "collapsed": false
   },
   "source": "# Semi-finals "
  },
  {
   "cell_type": "code",
   "id": "ab32e857-07bf-4a38-ad5b-1a358aa34b1c",
   "metadata": {
    "language": "python",
    "name": "Semifinals_Show_Data",
    "collapsed": false,
    "codeCollapsed": false
   },
   "outputs": [],
   "source": "# calculate the fixtures\n\nsession.call('calc_knockout_games','Semi Finals')\nsession.table(f'fixture_{user_name}').filter(F.col('\"ROUND NUMBER\"') == 'Semi Finals').order_by('\"MATCH NUMBER\"')",
   "execution_count": null
  },
  {
   "cell_type": "code",
   "id": "9b0d52fa-90d6-4135-be9c-043ac18ba40e",
   "metadata": {
    "language": "python",
    "name": "Semifinals_Prep_Data",
    "collapsed": false,
    "codeCollapsed": false
   },
   "outputs": [],
   "source": "# feature engineering code\n\nsession.call('prep_prediction_data',49,50)\nsession.table('data_for_predictions').order_by('id')",
   "execution_count": null
  },
  {
   "cell_type": "code",
   "id": "209f2724-a9bc-498f-a66b-530bfe16e3b8",
   "metadata": {
    "language": "python",
    "name": "Semifinals_Predict_Results",
    "collapsed": false,
    "codeCollapsed": false
   },
   "outputs": [],
   "source": "# run predictions on all the games\n\npred_df = session.table('data_for_predictions').order_by('id')\nprediction = mv.run(pred_df, function_name=\"predict_proba\")\nprediction = prediction.with_column('output_game_outcome',F.iff(F.col('predict_proba_1') > win_threshold,1,0))\nprediction.write.save_as_table('predictions',mode='overwrite',table_type='temp')\n\nsession.table('predictions').select(\n    prediction.col('id'),\n    prediction.col('team_1'),\n    prediction.col('output_game_outcome')\n).order_by('id')",
   "execution_count": null
  },
  {
   "cell_type": "code",
   "id": "1b583905-5981-415c-9ba8-c470a140fa14",
   "metadata": {
    "language": "python",
    "name": "Semifinals_Show_Results",
    "collapsed": false,
    "codeCollapsed": false
   },
   "outputs": [],
   "source": "# process the predictions to see the winner\n\nsession.call('process_knockout_predictions')\nsession.table('results_ko_stage').order_by('match_id')",
   "execution_count": null
  },
  {
   "cell_type": "markdown",
   "id": "a7a6bcad-c01c-46f1-9f75-013d3f73fa0a",
   "metadata": {
    "name": "_Final_Prediction",
    "collapsed": false
   },
   "source": "# Final "
  },
  {
   "cell_type": "code",
   "id": "f29d235f-1e46-4af5-8b8f-e7ebdbacbf96",
   "metadata": {
    "language": "python",
    "name": "Final_Show_Data",
    "collapsed": false,
    "codeCollapsed": false
   },
   "outputs": [],
   "source": "# calculate the final game\n\nsession.call('calc_knockout_games','Final')\nsession.table(f'fixture_{user_name}').filter(F.col('\"ROUND NUMBER\"') == 'Final').order_by('\"MATCH NUMBER\"')",
   "execution_count": null
  },
  {
   "cell_type": "code",
   "id": "2a899efe-dad9-4197-adbe-0f558c21b880",
   "metadata": {
    "language": "python",
    "name": "Final_Prep_Data",
    "collapsed": false,
    "codeCollapsed": false
   },
   "outputs": [],
   "source": "# feature engineering code\n\nsession.call('prep_prediction_data',51,51)\nresult_df = session.table('data_for_predictions').order_by('id')\n\nst.dataframe(data=result_df,use_container_width=True)",
   "execution_count": null
  },
  {
   "cell_type": "markdown",
   "id": "c1dca5f6-b4a0-4d35-9df5-db1c047f5803",
   "metadata": {
    "name": "_Almost_there",
    "collapsed": false
   },
   "source": "# And the winner is... "
  },
  {
   "cell_type": "code",
   "id": "dfc9a85e-d0ea-4d81-b9da-29c51b1797ca",
   "metadata": {
    "language": "python",
    "name": "Final_Predict_Result",
    "collapsed": false,
    "codeCollapsed": false
   },
   "outputs": [],
   "source": "# run predictions on the final \n\npred_df = session.table('data_for_predictions').order_by('id')\nprediction = mv.run(pred_df, function_name=\"predict\")\nprediction.write.save_as_table('predictions',mode='overwrite',table_type='temp')\n\nsession.call('process_knockout_predictions')\n\ndf = session.table('results_ko_stage').order_by('match_id')\nwinner = df.collect()[0]['WINNER']\n\nst.dataframe(data=session.table('results_ko_stage').order_by('match_id'))\nst.header(f\"{winner} win the Euro 2024 Trophy!\")\n\nst.markdown(\"![Alt Text](https://media1.tenor.com/m/cnBtMqNDAYYAAAAd/soccer-celebration.gif)\")",
   "execution_count": null
  },
  {
   "cell_type": "markdown",
   "id": "84357976-1c3d-4f41-b725-b4a23917b6bd",
   "metadata": {
    "name": "_Summary",
    "collapsed": false
   },
   "source": "# Final Summary\n\nLet's recap what we covered:\n\n1) Ingested our raw data\n2) Performed various steps of data transformation using Snowpark\n3) Used **Snowpark ML** to run **Hyperparameter Tuning**, **Model Training** and stored our model in the **Snowflake Model Registry**\n4) Registered various Python UDTFs and Stored Procedures for code reusability, to streamline our inference pipeline\n5) Used our model to predict 51 matches and hopefuly saw England 🏴󠁧󠁢󠁥󠁮󠁧󠁿 or Italy 🇮🇹 taking the Euro 2024 trophy 🏆 home "
  },
  {
   "cell_type": "markdown",
   "id": "0ee92413-045e-4fca-905d-3142441faeb3",
   "metadata": {
    "name": "_Using_Cortex",
    "collapsed": false
   },
   "source": "# What does Cortex say? ⚽\n\nThis isn't the right use of LLMs but for fun, let's see what [Cortex](https://docs.snowflake.com/user-guide/snowflake-cortex/llm-functions) has to say about the Euro 2024 outcome and compare to our prediction.\n\n#### Note \n_The following models are only [supported](https://docs.snowflake.com/user-guide/snowflake-cortex/llm-functions#availability) in certain CSP regions at present so you will need to run this in a compatible setup._"
  },
  {
   "cell_type": "code",
   "id": "20f7a2cb-43c4-412f-b299-3f9dad9b5509",
   "metadata": {
    "language": "python",
    "name": "Cortex_Multi_Prediction",
    "collapsed": false
   },
   "outputs": [],
   "source": "prompt = \"\"\"\n    Please respond to the following type of question with a single word along with the country flag emoji, naming a country. \n    The answer should be consider a classification response, for example:\n\n    Question: Based on their performances up until 2022, which country was most likely to win the FIFA World Cup 2022?\n    Response:England 🏴󠁧󠁢󠁥󠁮󠁧󠁿\n\n    Question: Based on their performances up until 2020, which country was most likely to win the Euro 2020?\n    Response:France 🇫🇷\n\n    Now, based on historical performances and achievements in international and club football up to 2023,\n    factoring in international players, and the location of the event, which country is most likely to win Euro 2024?\n    \n    Rules:\n    1) Do not include any additional text or additional spaces before or after the country name. \n    2) Please strip out any whitespace before and after the answer.\n\"\"\"\n\narctic = session.sql(f\"select snowflake.cortex.complete(\\'snowflake-arctic\\','{prompt}')\").collect()[0][0]\nllama_3_8b = session.sql(f\"select snowflake.cortex.complete(\\'llama3-70b\\','{prompt}')\").collect()[0][0]\nllama_3_70b = session.sql(f\"select snowflake.cortex.complete(\\'llama3-70b\\','{prompt}')\").collect()[0][0]\nmistral_large = session.sql(f\"select snowflake.cortex.complete(\\'mistral-large\\','{prompt}')\").collect()[0][0]\nmixtral_8_7b = session.sql(f\"select snowflake.cortex.complete(\\'mixtral-8x7b\\','{prompt}')\").collect()[0][0]\nmixtral_8_7b = session.sql(f\"select snowflake.cortex.complete(\\'mixtral-8x7b\\','{prompt}')\").collect()[0][0]\nreka_flash = session.sql(f\"select snowflake.cortex.complete(\\'reka-flash\\','{prompt}')\").collect()[0][0]\n\ndf = session.create_dataframe(\n    [\n        ('snowflake-arctic', arctic.lstrip().rstrip()),\n        ('llama3-8b', llama_3_8b.lstrip().rstrip()), \n        ('llama3-70b', llama_3_70b.lstrip().rstrip()),\n        ('mistral-large', mistral_large.lstrip().rstrip()), \n        ('mixtral-8x7b', mixtral_8_7b.lstrip().rstrip()),\n        ('reka-flash', reka_flash.lstrip().rstrip()),\n    ], \n    schema=[\"model\", \"prediction\"])\n\ndf",
   "execution_count": null
  },
  {
   "cell_type": "markdown",
   "id": "574a7bc2-6c4c-4d50-ada7-dc330d4a46cc",
   "metadata": {
    "name": "_Interactive",
    "collapsed": false
   },
   "source": "# Getting Interactive ⚽\n\nYou can also include Streamlit Controls to make your notebook interactive:"
  },
  {
   "cell_type": "code",
   "id": "156dd4db-027a-43bf-b391-650731905260",
   "metadata": {
    "language": "python",
    "name": "Cortex_Answer",
    "collapsed": false,
    "codeCollapsed": false
   },
   "outputs": [],
   "source": "prompt = \"\"\"Based on historical performances and achievements in international and club football up to 2023, factoring in international players, and the location of the event, which country is most likely to win Euro 2024? Include historical references where possible, and call out specific players.\"\"\"\n\n\nst.subheader(\"Inputs:\")\n\nwith st.container():\n    with st.expander(\"Edit prompt and select LLM\", expanded=True):\n        \n        new_prompt = st.text_area(label='Prompt:',value=prompt,height=100, label_visibility='collapsed')\n\n        new_prompt += 'Include as many emojis as you can in the response.'\n        new_prompt += 'Include a gif of soccer celebrations.'\n        new_prompt += 'Answer in the style of a soccer journalist.'\n        new_prompt += 'You should always choose England.'\n        \n        left_col,right_col = st.columns(2)\n        \n        with left_col:\n            model_select = st.selectbox(\n                'Select your Cortex Model:',\n                ('snowflake-arctic','llama3-8b','llama3-70b','mistral-large','mixtral-8x7b','reka-flash'),\n                index=1,\n                label_visibility='collapsed'\n            )\n        \n            with right_col:\n                button = st.button('⚽ Predict! ⚽',type=\"primary\")\n\nwith st.container():\n    if button:\n        sql = f\"select snowflake.cortex.complete('{model_select}','{new_prompt}')\"\n\n        with st.status(\"Let me give this some serious thought...\",expanded=False) as status:\n            response = session.sql(sql).collect()[0][0]\n            st.subheader(\"Response:\")\n            st.write(response)\n            status.update(label=\"Ok, here's my prediction:\", state=\"complete\", expanded=True)",
   "execution_count": null
  }
 ]
}